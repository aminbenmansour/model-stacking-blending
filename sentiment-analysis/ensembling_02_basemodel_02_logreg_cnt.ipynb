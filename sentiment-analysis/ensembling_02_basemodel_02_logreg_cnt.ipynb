{
 "cells": [
  {
   "cell_type": "code",
   "metadata": {
    "tags": [],
    "deepnote_to_be_reexecuted": false,
    "source_hash": "6deaaf1b",
    "execution_start": 1654551345941,
    "execution_millis": 763,
    "cell_id": "6dd94a4b-ce4f-480f-a9b7-567288fb4898",
    "deepnote_cell_type": "code",
    "deepnote_cell_height": 99
   },
   "source": "import pandas as pd\nfrom sklearn.linear_model import LogisticRegression",
   "execution_count": 1,
   "outputs": []
  },
  {
   "cell_type": "code",
   "metadata": {
    "tags": [],
    "deepnote_to_be_reexecuted": false,
    "source_hash": "60edcaab",
    "execution_start": 1654551346710,
    "execution_millis": 4,
    "cell_id": "00001-4d8f45d2-4997-4a92-a694-947bb0f42bda",
    "deepnote_cell_type": "code",
    "deepnote_cell_height": 135
   },
   "source": "INPUT_DIR=\"../data-nlp/input/\"\nOUTPUT_DIR=\"../data-nlp/output/\"\n\nRAND=10",
   "execution_count": 2,
   "outputs": []
  },
  {
   "cell_type": "code",
   "metadata": {
    "tags": [],
    "deepnote_to_be_reexecuted": false,
    "source_hash": "6cd97277",
    "execution_start": 1654551346719,
    "execution_millis": 17,
    "cell_id": "00002-1598b343-9fe4-41f7-8e73-c6bd5c99c727",
    "deepnote_cell_type": "code",
    "deepnote_cell_height": 99
   },
   "source": "from sklearn.feature_extraction.text import CountVectorizer\nfrom sklearn.metrics import roc_auc_score",
   "execution_count": 3,
   "outputs": []
  },
  {
   "cell_type": "code",
   "metadata": {
    "tags": [],
    "deepnote_to_be_reexecuted": false,
    "source_hash": "f81dbf9a",
    "execution_start": 1654551346741,
    "execution_millis": 605,
    "cell_id": "00003-6c21f65e-d78e-41da-8c94-8a2ab10b0784",
    "deepnote_cell_type": "code",
    "deepnote_cell_height": 339.0625
   },
   "source": "df = pd.read_csv(OUTPUT_DIR + \"01_train_folds.csv\")\n\ndf.info()",
   "execution_count": 4,
   "outputs": [
    {
     "name": "stdout",
     "text": "<class 'pandas.core.frame.DataFrame'>\nRangeIndex: 25000 entries, 0 to 24999\nData columns (total 4 columns):\n #   Column     Non-Null Count  Dtype \n---  ------     --------------  ----- \n 0   id         25000 non-null  object\n 1   sentiment  25000 non-null  int64 \n 2   review     25000 non-null  object\n 3   kfold      25000 non-null  int64 \ndtypes: int64(2), object(2)\nmemory usage: 781.4+ KB\n",
     "output_type": "stream"
    }
   ]
  },
  {
   "cell_type": "code",
   "metadata": {
    "tags": [],
    "deepnote_to_be_reexecuted": false,
    "source_hash": "85968a04",
    "execution_start": 1654551347081,
    "execution_millis": 6,
    "cell_id": "00004-4a2f7dce-010b-4d81-bf0c-7f052c4f880d",
    "deepnote_cell_type": "code",
    "deepnote_cell_height": 81
   },
   "source": "df.review = df.review.astype(str)",
   "execution_count": 5,
   "outputs": []
  },
  {
   "cell_type": "code",
   "metadata": {
    "tags": [],
    "deepnote_to_be_reexecuted": false,
    "source_hash": "af755975",
    "execution_start": 1654551347120,
    "execution_millis": 0,
    "cell_id": "00005-530890f6-fa85-46ae-840c-864839f38a75",
    "deepnote_cell_type": "code",
    "deepnote_cell_height": 513
   },
   "source": "def run_training(fold):\n\n    df_train = df[df.kfold != fold].reset_index(drop=True)\n    df_valid = df[df.kfold == fold].reset_index(drop=True)\n\n    tfv = CountVectorizer()\n    tfv.fit(df_train.review.values)\n\n    xtrain = tfv.transform(df_train.review.values)\n    xvalid = tfv.transform(df_valid.review.values)\n\n    ytrain = df_train.sentiment.values\n    yvalid = df_valid.sentiment.values\n\n    clf = LogisticRegression()\n    clf.fit(xtrain, ytrain)\n    pred = clf.predict_proba(xvalid)[:, 1]\n    \n    auc = roc_auc_score(yvalid, pred)\n    print(f\"fold={fold}, auc={auc}\")\n\n    df_valid.loc[:, \"lr_cnt_pred\"] = pred\n\n    return df_valid[[\"id\", \"sentiment\", \"kfold\", \"lr_cnt_pred\"]]\n",
   "execution_count": 6,
   "outputs": []
  },
  {
   "cell_type": "code",
   "metadata": {
    "tags": [],
    "deepnote_to_be_reexecuted": false,
    "source_hash": "c9899a6c",
    "execution_start": 1654551347139,
    "execution_millis": 208,
    "cell_id": "00006-49388f22-c26b-411e-8bf1-4540f7290642",
    "deepnote_cell_type": "code",
    "deepnote_cell_height": 194.9375,
    "deepnote_output_heights": [
     97.9375
    ]
   },
   "source": "df.review.describe()",
   "execution_count": 7,
   "outputs": [
    {
     "output_type": "execute_result",
     "execution_count": 7,
     "data": {
      "text/plain": "count                                                 25000\nunique                                                24904\ntop       You do realize that you've been watching the E...\nfreq                                                      3\nName: review, dtype: object"
     },
     "metadata": {}
    }
   ]
  },
  {
   "cell_type": "code",
   "source": "import warnings\nwarnings.filterwarnings('ignore')",
   "metadata": {
    "cell_id": "3324197cb3594f78a0fe7093edcea551",
    "tags": [],
    "deepnote_to_be_reexecuted": false,
    "source_hash": "17e3dbca",
    "execution_start": 1654551347176,
    "execution_millis": 1,
    "deepnote_cell_type": "code",
    "deepnote_cell_height": 99
   },
   "outputs": [],
   "execution_count": 8
  },
  {
   "cell_type": "code",
   "metadata": {
    "tags": [],
    "deepnote_to_be_reexecuted": false,
    "source_hash": "9f6a0ffb",
    "execution_start": 1654551347178,
    "execution_millis": 64074,
    "cell_id": "00007-0bbf1174-3ebd-43d9-891a-92fd4819b06b",
    "deepnote_cell_type": "code",
    "deepnote_cell_height": 791
   },
   "source": "dfs = []\nfor fold in range(5):\n    output_df = run_training(fold)\n    dfs.append(output_df)\n\nfinal_df = pd.concat(dfs)",
   "execution_count": 9,
   "outputs": [
    {
     "name": "stdout",
     "text": "fold=0, auc=0.94549216\nfold=1, auc=0.94849344\nfold=2, auc=0.94504128\nfold=3, auc=0.9469352\nfold=4, auc=0.94524608\n",
     "output_type": "stream"
    }
   ]
  },
  {
   "cell_type": "code",
   "metadata": {
    "tags": [],
    "deepnote_to_be_reexecuted": false,
    "source_hash": "66ad094a",
    "execution_start": 1654551411277,
    "execution_millis": 28,
    "cell_id": "00008-6af2fee2-1a89-4989-9e4f-852e366b8b52",
    "deepnote_cell_type": "code",
    "deepnote_cell_height": 410
   },
   "source": "final_df.head()",
   "execution_count": 10,
   "outputs": [
    {
     "output_type": "execute_result",
     "execution_count": 10,
     "data": {
      "application/vnd.deepnote.dataframe.v3+json": {
       "column_count": 4,
       "row_count": 5,
       "columns": [
        {
         "name": "id",
         "dtype": "object",
         "stats": {
          "unique_count": 5,
          "nan_count": 0,
          "categories": [
           {
            "name": "11703_9",
            "count": 1
           },
           {
            "name": "6742_8",
            "count": 1
           },
           {
            "name": "3 others",
            "count": 3
           }
          ]
         }
        },
        {
         "name": "sentiment",
         "dtype": "int64",
         "stats": {
          "unique_count": 2,
          "nan_count": 0,
          "min": "0",
          "max": "1",
          "histogram": [
           {
            "bin_start": 0,
            "bin_end": 0.1,
            "count": 1
           },
           {
            "bin_start": 0.1,
            "bin_end": 0.2,
            "count": 0
           },
           {
            "bin_start": 0.2,
            "bin_end": 0.30000000000000004,
            "count": 0
           },
           {
            "bin_start": 0.30000000000000004,
            "bin_end": 0.4,
            "count": 0
           },
           {
            "bin_start": 0.4,
            "bin_end": 0.5,
            "count": 0
           },
           {
            "bin_start": 0.5,
            "bin_end": 0.6000000000000001,
            "count": 0
           },
           {
            "bin_start": 0.6000000000000001,
            "bin_end": 0.7000000000000001,
            "count": 0
           },
           {
            "bin_start": 0.7000000000000001,
            "bin_end": 0.8,
            "count": 0
           },
           {
            "bin_start": 0.8,
            "bin_end": 0.9,
            "count": 0
           },
           {
            "bin_start": 0.9,
            "bin_end": 1,
            "count": 4
           }
          ]
         }
        },
        {
         "name": "kfold",
         "dtype": "int64",
         "stats": {
          "unique_count": 1,
          "nan_count": 0,
          "min": "0",
          "max": "0",
          "histogram": [
           {
            "bin_start": -0.5,
            "bin_end": -0.4,
            "count": 0
           },
           {
            "bin_start": -0.4,
            "bin_end": -0.3,
            "count": 0
           },
           {
            "bin_start": -0.3,
            "bin_end": -0.19999999999999996,
            "count": 0
           },
           {
            "bin_start": -0.19999999999999996,
            "bin_end": -0.09999999999999998,
            "count": 0
           },
           {
            "bin_start": -0.09999999999999998,
            "bin_end": 0,
            "count": 0
           },
           {
            "bin_start": 0,
            "bin_end": 0.10000000000000009,
            "count": 5
           },
           {
            "bin_start": 0.10000000000000009,
            "bin_end": 0.20000000000000007,
            "count": 0
           },
           {
            "bin_start": 0.20000000000000007,
            "bin_end": 0.30000000000000004,
            "count": 0
           },
           {
            "bin_start": 0.30000000000000004,
            "bin_end": 0.4,
            "count": 0
           },
           {
            "bin_start": 0.4,
            "bin_end": 0.5,
            "count": 0
           }
          ]
         }
        },
        {
         "name": "lr_cnt_pred",
         "dtype": "float64",
         "stats": {
          "unique_count": 5,
          "nan_count": 0,
          "min": "0.4653006313356506",
          "max": "0.9999992180948313",
          "histogram": [
           {
            "bin_start": 0.4653006313356506,
            "bin_end": 0.5187704900115686,
            "count": 1
           },
           {
            "bin_start": 0.5187704900115686,
            "bin_end": 0.5722403486874867,
            "count": 0
           },
           {
            "bin_start": 0.5722403486874867,
            "bin_end": 0.6257102073634048,
            "count": 0
           },
           {
            "bin_start": 0.6257102073634048,
            "bin_end": 0.6791800660393228,
            "count": 0
           },
           {
            "bin_start": 0.6791800660393228,
            "bin_end": 0.7326499247152409,
            "count": 0
           },
           {
            "bin_start": 0.7326499247152409,
            "bin_end": 0.786119783391159,
            "count": 0
           },
           {
            "bin_start": 0.786119783391159,
            "bin_end": 0.839589642067077,
            "count": 0
           },
           {
            "bin_start": 0.839589642067077,
            "bin_end": 0.8930595007429951,
            "count": 0
           },
           {
            "bin_start": 0.8930595007429951,
            "bin_end": 0.9465293594189133,
            "count": 0
           },
           {
            "bin_start": 0.9465293594189133,
            "bin_end": 0.9999992180948313,
            "count": 4
           }
          ]
         }
        },
        {
         "name": "_deepnote_index_column",
         "dtype": "int64"
        }
       ],
       "rows": [
        {
         "id": "11703_9",
         "sentiment": 1,
         "kfold": 0,
         "lr_cnt_pred": 0.9996652110471953,
         "_deepnote_index_column": 0
        },
        {
         "id": "6742_8",
         "sentiment": 1,
         "kfold": 0,
         "lr_cnt_pred": 0.9866726246962496,
         "_deepnote_index_column": 1
        },
        {
         "id": "10071_1",
         "sentiment": 0,
         "kfold": 0,
         "lr_cnt_pred": 0.4653006313356506,
         "_deepnote_index_column": 2
        },
        {
         "id": "9841_7",
         "sentiment": 1,
         "kfold": 0,
         "lr_cnt_pred": 0.9999992180948313,
         "_deepnote_index_column": 3
        },
        {
         "id": "11579_10",
         "sentiment": 1,
         "kfold": 0,
         "lr_cnt_pred": 0.9851555901485298,
         "_deepnote_index_column": 4
        }
       ]
      },
      "text/plain": "         id  sentiment  kfold  lr_cnt_pred\n0   11703_9          1      0     0.999665\n1    6742_8          1      0     0.986673\n2   10071_1          0      0     0.465301\n3    9841_7          1      0     0.999999\n4  11579_10          1      0     0.985156",
      "text/html": "<div>\n<style scoped>\n    .dataframe tbody tr th:only-of-type {\n        vertical-align: middle;\n    }\n\n    .dataframe tbody tr th {\n        vertical-align: top;\n    }\n\n    .dataframe thead th {\n        text-align: right;\n    }\n</style>\n<table border=\"1\" class=\"dataframe\">\n  <thead>\n    <tr style=\"text-align: right;\">\n      <th></th>\n      <th>id</th>\n      <th>sentiment</th>\n      <th>kfold</th>\n      <th>lr_cnt_pred</th>\n    </tr>\n  </thead>\n  <tbody>\n    <tr>\n      <th>0</th>\n      <td>11703_9</td>\n      <td>1</td>\n      <td>0</td>\n      <td>0.999665</td>\n    </tr>\n    <tr>\n      <th>1</th>\n      <td>6742_8</td>\n      <td>1</td>\n      <td>0</td>\n      <td>0.986673</td>\n    </tr>\n    <tr>\n      <th>2</th>\n      <td>10071_1</td>\n      <td>0</td>\n      <td>0</td>\n      <td>0.465301</td>\n    </tr>\n    <tr>\n      <th>3</th>\n      <td>9841_7</td>\n      <td>1</td>\n      <td>0</td>\n      <td>0.999999</td>\n    </tr>\n    <tr>\n      <th>4</th>\n      <td>11579_10</td>\n      <td>1</td>\n      <td>0</td>\n      <td>0.985156</td>\n    </tr>\n  </tbody>\n</table>\n</div>"
     },
     "metadata": {}
    }
   ]
  },
  {
   "cell_type": "code",
   "source": "",
   "metadata": {
    "cell_id": "00009-654019d8-fd9f-4010-9102-ebe4ed759f03",
    "deepnote_to_be_reexecuted": false,
    "source_hash": "b623e53d",
    "execution_start": 1654551411308,
    "execution_millis": 3,
    "deepnote_cell_type": "visualization"
   },
   "execution_count": 10,
   "outputs": []
  },
  {
   "cell_type": "code",
   "metadata": {
    "tags": [],
    "deepnote_to_be_reexecuted": false,
    "source_hash": "93521592",
    "execution_start": 1654551411331,
    "execution_millis": 73,
    "cell_id": "00010-ab6a70f3-a849-4201-bc26-62d0d443c332",
    "deepnote_cell_type": "code",
    "deepnote_cell_height": 129.1875
   },
   "source": "print(final_df.shape)\nfinal_df.to_csv(f\"{OUTPUT_DIR}02_basemodel_02_logreg_cnt.csv\", index=False)",
   "execution_count": 11,
   "outputs": [
    {
     "name": "stdout",
     "text": "(25000, 4)\n",
     "output_type": "stream"
    }
   ]
  },
  {
   "cell_type": "markdown",
   "source": "<a style='text-decoration:none;line-height:16px;display:flex;color:#5B5B62;padding:10px;justify-content:end;' href='https://deepnote.com?utm_source=created-in-deepnote-cell&projectId=b1ab3b60-9130-40c7-8fa2-288950ad463c' target=\"_blank\">\n<img alt='Created in deepnote.com' style='display:inline;max-height:16px;margin:0px;margin-right:7.5px;' src='data:image/svg+xml;base64,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' > </img>\nCreated in <span style='font-weight:600;margin-left:4px;'>Deepnote</span></a>",
   "metadata": {
    "tags": [],
    "created_in_deepnote_cell": true,
    "deepnote_cell_type": "markdown"
   }
  }
 ],
 "nbformat": 4,
 "nbformat_minor": 2,
 "metadata": {
  "orig_nbformat": 2,
  "deepnote": {},
  "deepnote_notebook_id": "167f2171-b119-4a3c-a870-d7f23f822cca",
  "deepnote_execution_queue": []
 }
}