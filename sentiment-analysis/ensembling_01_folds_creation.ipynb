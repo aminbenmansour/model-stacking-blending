{
 "cells": [
  {
   "cell_type": "markdown",
   "source": "# First step in stacking - Creating folds",
   "metadata": {
    "cell_id": "757e983ea1ea4455915c0c2ccf3892e7",
    "tags": [],
    "deepnote_cell_type": "markdown",
    "deepnote_cell_height": 186
   }
  },
  {
   "cell_type": "markdown",
   "source": "Creating folds is useful when ensembling/combining many kinds of models from different sources",
   "metadata": {
    "cell_id": "7597c94d72fb4145a1881b8761cee6f1",
    "tags": [],
    "deepnote_cell_type": "markdown",
    "deepnote_cell_height": 97.171875
   }
  },
  {
   "cell_type": "code",
   "metadata": {
    "cell_id": "6d169e194a844db5ac0da38c26777a78",
    "tags": [],
    "deepnote_to_be_reexecuted": false,
    "source_hash": "e2fa864d",
    "execution_start": 1654534506749,
    "execution_millis": 1025,
    "deepnote_cell_type": "code",
    "deepnote_cell_height": 117
   },
   "source": "import pandas as pd\nfrom sklearn.model_selection import train_test_split\nfrom sklearn.model_selection import StratifiedKFold",
   "execution_count": 1,
   "outputs": []
  },
  {
   "cell_type": "code",
   "metadata": {
    "cell_id": "1319e2d5938c4b94b39a96410565401f",
    "tags": [],
    "deepnote_to_be_reexecuted": false,
    "source_hash": "60edcaab",
    "execution_start": 1654534507786,
    "execution_millis": 3,
    "deepnote_cell_type": "code",
    "deepnote_cell_height": 135
   },
   "source": "INPUT_DIR=\"../data-nlp/input/\"\nOUTPUT_DIR=\"../data-nlp/output/\"\n\nRAND=10",
   "execution_count": 2,
   "outputs": []
  },
  {
   "cell_type": "code",
   "metadata": {
    "cell_id": "7d4e46937a0f4a14854d3b3be481b84e",
    "tags": [],
    "deepnote_to_be_reexecuted": false,
    "source_hash": "c7e6ad4b",
    "execution_start": 1654534507798,
    "execution_millis": 398,
    "deepnote_cell_type": "code",
    "deepnote_cell_height": 470
   },
   "source": "df = pd.read_csv(INPUT_DIR + \"labeledTrainData.tsv\", sep=\"\\t\")\ndf.loc[:, \"kfold\"]=-1\ndf.head()",
   "execution_count": 3,
   "outputs": [
    {
     "output_type": "execute_result",
     "execution_count": 3,
     "data": {
      "application/vnd.deepnote.dataframe.v3+json": {
       "column_count": 4,
       "row_count": 5,
       "columns": [
        {
         "name": "id",
         "dtype": "object",
         "stats": {
          "unique_count": 5,
          "nan_count": 0,
          "categories": [
           {
            "name": "5814_8",
            "count": 1
           },
           {
            "name": "2381_9",
            "count": 1
           },
           {
            "name": "3 others",
            "count": 3
           }
          ]
         }
        },
        {
         "name": "sentiment",
         "dtype": "int64",
         "stats": {
          "unique_count": 2,
          "nan_count": 0,
          "min": "0",
          "max": "1",
          "histogram": [
           {
            "bin_start": 0,
            "bin_end": 0.1,
            "count": 2
           },
           {
            "bin_start": 0.1,
            "bin_end": 0.2,
            "count": 0
           },
           {
            "bin_start": 0.2,
            "bin_end": 0.30000000000000004,
            "count": 0
           },
           {
            "bin_start": 0.30000000000000004,
            "bin_end": 0.4,
            "count": 0
           },
           {
            "bin_start": 0.4,
            "bin_end": 0.5,
            "count": 0
           },
           {
            "bin_start": 0.5,
            "bin_end": 0.6000000000000001,
            "count": 0
           },
           {
            "bin_start": 0.6000000000000001,
            "bin_end": 0.7000000000000001,
            "count": 0
           },
           {
            "bin_start": 0.7000000000000001,
            "bin_end": 0.8,
            "count": 0
           },
           {
            "bin_start": 0.8,
            "bin_end": 0.9,
            "count": 0
           },
           {
            "bin_start": 0.9,
            "bin_end": 1,
            "count": 3
           }
          ]
         }
        },
        {
         "name": "review",
         "dtype": "object",
         "stats": {
          "unique_count": 5,
          "nan_count": 0,
          "categories": [
           {
            "name": "With all this stuff going down at the moment with MJ i've started listening to his music, watching the odd documentary here and there, watched The Wiz and watched Moonwalker again. Maybe i just want to get a certain insight into this guy who i thought was really cool in the eighties just to maybe make up my mind whether he is guilty or innocent. Moonwalker is part biography, part feature film which i remember going to see at the cinema when it was originally released. Some of it has subtle messages about MJ's feeling towards the press and also the obvious message of drugs are bad m'kay.<br /><br />Visually impressive but of course this is all about Michael Jackson so unless you remotely like MJ in anyway then you are going to hate this and find it boring. Some may call MJ an egotist for consenting to the making of this movie BUT MJ and most of his fans would say that he made it for the fans which if true is really nice of him.<br /><br />The actual feature film bit when it finally starts is only on for 20 minutes or so excluding the Smooth Criminal sequence and Joe Pesci is convincing as a psychopathic all powerful drug lord. Why he wants MJ dead so bad is beyond me. Because MJ overheard his plans? Nah, Joe Pesci's character ranted that he wanted people to know it is he who is supplying drugs etc so i dunno, maybe he just hates MJ's music.<br /><br />Lots of cool things in this like MJ turning into a car and a robot and the whole Speed Demon sequence. Also, the director must have had the patience of a saint when it came to filming the kiddy Bad sequence as usually directors hate working with one kid let alone a whole bunch of them performing a complex dance scene.<br /><br />Bottom line, this movie is for people who like MJ on one level or another (which i think is most people). If not, then stay away. It does try and give off a wholesome message and ironically MJ's bestest buddy in this movie is a girl! Michael Jackson is truly one of the most talented people ever to grace this planet but is he guilty? Well, with all the attention i've gave this subject....hmmm well i don't know because people can be different behind closed doors, i know this for a fact. He is either an extremely nice but stupid guy or one of the most sickest liars. I hope he is not the latter.",
            "count": 1
           },
           {
            "name": "\\The Classic War of the Worlds\\\" by Timothy Hines is a very entertaining film that obviously goes to great effort and lengths to faithfully recreate H. G. Wells' classic book. Mr. Hines succeeds in doing so. I, and those who watched his film with me, appreciated the fact that it was not the standard, predictable Hollywood fare that comes out every year, e.g. the Spielberg version with Tom Cruise that had only the slightest resemblance to the book. Obviously, everyone looks for different things in a movie. Those who envision themselves as amateur \\\"critics\\\" look only to criticize everything they can. Others rate a movie on more important bases,like being entertained, which is why most people never agree with the \\\"critics\\\". We enjoyed the effort Mr. Hines put into being faithful to H.G. Wells' classic novel, and we found it to be very entertaining. This made it easy to overlook what the \\\"critics\\\" perceive to be its shortcomings.\"",
            "count": 1
           },
           {
            "name": "3 others",
            "count": 3
           }
          ]
         }
        },
        {
         "name": "kfold",
         "dtype": "int64",
         "stats": {
          "unique_count": 1,
          "nan_count": 0,
          "min": "-1",
          "max": "-1",
          "histogram": [
           {
            "bin_start": -1.5,
            "bin_end": -1.4,
            "count": 0
           },
           {
            "bin_start": -1.4,
            "bin_end": -1.3,
            "count": 0
           },
           {
            "bin_start": -1.3,
            "bin_end": -1.2,
            "count": 0
           },
           {
            "bin_start": -1.2,
            "bin_end": -1.1,
            "count": 0
           },
           {
            "bin_start": -1.1,
            "bin_end": -1,
            "count": 0
           },
           {
            "bin_start": -1,
            "bin_end": -0.8999999999999999,
            "count": 5
           },
           {
            "bin_start": -0.8999999999999999,
            "bin_end": -0.7999999999999999,
            "count": 0
           },
           {
            "bin_start": -0.7999999999999999,
            "bin_end": -0.7,
            "count": 0
           },
           {
            "bin_start": -0.7,
            "bin_end": -0.6,
            "count": 0
           },
           {
            "bin_start": -0.6,
            "bin_end": -0.5,
            "count": 0
           }
          ]
         }
        },
        {
         "name": "_deepnote_index_column",
         "dtype": "int64"
        }
       ],
       "rows": [
        {
         "id": "5814_8",
         "sentiment": 1,
         "review": "With all this stuff going down at the moment with MJ i've started listening to his music, watching the odd documentary here and there, watched The Wiz and watched Moonwalker again. Maybe i just want to get a certain insight into this guy who i thought was really cool in the eighties just to maybe make up my mind whether he is guilty or innocent. Moonwalker is part biography, part feature film which i remember going to see at the cinema when it was originally released. Some of it has subtle messages about MJ's feeling towards the press and also the obvious message of drugs are bad m'kay.<br /><br />Visually impressive but of course this is all about Michael Jackson so unless you remotely like MJ in anyway then you are going to hate this and find it boring. Some may call MJ an egotist for consenting to the making of this movie BUT MJ and most of his fans would say that he made it for the fans which if true is really nice of him.<br /><br />The actual feature film bit when it finally sta…",
         "kfold": -1,
         "_deepnote_index_column": 0
        },
        {
         "id": "2381_9",
         "sentiment": 1,
         "review": "\\The Classic War of the Worlds\\\" by Timothy Hines is a very entertaining film that obviously goes to great effort and lengths to faithfully recreate H. G. Wells' classic book. Mr. Hines succeeds in doing so. I, and those who watched his film with me, appreciated the fact that it was not the standard, predictable Hollywood fare that comes out every year, e.g. the Spielberg version with Tom Cruise that had only the slightest resemblance to the book. Obviously, everyone looks for different things in a movie. Those who envision themselves as amateur \\\"critics\\\" look only to criticize everything they can. Others rate a movie on more important bases,like being entertained, which is why most people never agree with the \\\"critics\\\". We enjoyed the effort Mr. Hines put into being faithful to H.G. Wells' classic novel, and we found it to be very entertaining. This made it easy to overlook what the \\\"critics\\\" perceive to be its shortcomings.\"",
         "kfold": -1,
         "_deepnote_index_column": 1
        },
        {
         "id": "7759_3",
         "sentiment": 0,
         "review": "The film starts with a manager (Nicholas Bell) giving welcome investors (Robert Carradine) to Primal Park . A secret project mutating a primal animal using fossilized DNA, like ¨Jurassik Park¨, and some scientists resurrect one of nature's most fearsome predators, the Sabretooth tiger or Smilodon . Scientific ambition turns deadly, however, and when the high voltage fence is opened the creature escape and begins savagely stalking its prey - the human visitors , tourists and scientific.Meanwhile some youngsters enter in the restricted area of the security center and are attacked by a pack of large pre-historical animals which are deadlier and bigger . In addition , a security agent (Stacy Haiduk) and her mate (Brian Wimmer) fight hardly against the carnivorous Smilodons. The Sabretooths, themselves , of course, are the real star stars and they are astounding terrifyingly though not convincing. The giant animals savagely are stalking its prey and the group run afoul and fight against on…",
         "kfold": -1,
         "_deepnote_index_column": 2
        },
        {
         "id": "3630_4",
         "sentiment": 0,
         "review": "It must be assumed that those who praised this film (\\the greatest filmed opera ever,\\\" didn't I read somewhere?) either don't care for opera, don't care for Wagner, or don't care about anything except their desire to appear Cultured. Either as a representation of Wagner's swan-song, or as a movie, this strikes me as an unmitigated disaster, with a leaden reading of the score matched to a tricksy, lugubrious realisation of the text.<br /><br />It's questionable that people with ideas as to what an opera (or, for that matter, a play, especially one by Shakespeare) is \\\"about\\\" should be allowed anywhere near a theatre or film studio; Syberberg, very fashionably, but without the smallest justification from Wagner's text, decided that Parsifal is \\\"about\\\" bisexual integration, so that the title character, in the latter stages, transmutes into a kind of beatnik babe, though one who continues to sing high tenor -- few if any of the actors in the film are the singers, and we get a double d…",
         "kfold": -1,
         "_deepnote_index_column": 3
        },
        {
         "id": "9495_8",
         "sentiment": 1,
         "review": "Superbly trashy and wondrously unpretentious 80's exploitation, hooray! The pre-credits opening sequences somewhat give the false impression that we're dealing with a serious and harrowing drama, but you need not fear because barely ten minutes later we're up until our necks in nonsensical chainsaw battles, rough fist-fights, lurid dialogs and gratuitous nudity! Bo and Ingrid are two orphaned siblings with an unusually close and even slightly perverted relationship. Can you imagine playfully ripping off the towel that covers your sister's naked body and then stare at her unshaven genitals for several whole minutes? Well, Bo does that to his sister and, judging by her dubbed laughter, she doesn't mind at all. Sick, dude! Anyway, as kids they fled from Russia with their parents, but nasty soldiers brutally slaughtered mommy and daddy. A friendly smuggler took custody over them, however, and even raised and trained Bo and Ingrid into expert smugglers. When the actual plot lifts off, 20 y…",
         "kfold": -1,
         "_deepnote_index_column": 4
        }
       ]
      },
      "text/plain": "       id  sentiment                                             review  kfold\n0  5814_8          1  With all this stuff going down at the moment w...     -1\n1  2381_9          1  \\The Classic War of the Worlds\\\" by Timothy Hi...     -1\n2  7759_3          0  The film starts with a manager (Nicholas Bell)...     -1\n3  3630_4          0  It must be assumed that those who praised this...     -1\n4  9495_8          1  Superbly trashy and wondrously unpretentious 8...     -1",
      "text/html": "<div>\n<style scoped>\n    .dataframe tbody tr th:only-of-type {\n        vertical-align: middle;\n    }\n\n    .dataframe tbody tr th {\n        vertical-align: top;\n    }\n\n    .dataframe thead th {\n        text-align: right;\n    }\n</style>\n<table border=\"1\" class=\"dataframe\">\n  <thead>\n    <tr style=\"text-align: right;\">\n      <th></th>\n      <th>id</th>\n      <th>sentiment</th>\n      <th>review</th>\n      <th>kfold</th>\n    </tr>\n  </thead>\n  <tbody>\n    <tr>\n      <th>0</th>\n      <td>5814_8</td>\n      <td>1</td>\n      <td>With all this stuff going down at the moment w...</td>\n      <td>-1</td>\n    </tr>\n    <tr>\n      <th>1</th>\n      <td>2381_9</td>\n      <td>1</td>\n      <td>\\The Classic War of the Worlds\\\" by Timothy Hi...</td>\n      <td>-1</td>\n    </tr>\n    <tr>\n      <th>2</th>\n      <td>7759_3</td>\n      <td>0</td>\n      <td>The film starts with a manager (Nicholas Bell)...</td>\n      <td>-1</td>\n    </tr>\n    <tr>\n      <th>3</th>\n      <td>3630_4</td>\n      <td>0</td>\n      <td>It must be assumed that those who praised this...</td>\n      <td>-1</td>\n    </tr>\n    <tr>\n      <th>4</th>\n      <td>9495_8</td>\n      <td>1</td>\n      <td>Superbly trashy and wondrously unpretentious 8...</td>\n      <td>-1</td>\n    </tr>\n  </tbody>\n</table>\n</div>"
     },
     "metadata": {}
    }
   ]
  },
  {
   "cell_type": "markdown",
   "source": "Only taking samples from the dataframe instead of processing all rows (optional)",
   "metadata": {
    "cell_id": "f0ba40a00a824d3a85f633d167c9adc1",
    "tags": [],
    "deepnote_cell_type": "markdown",
    "deepnote_cell_height": 74.78125
   }
  },
  {
   "cell_type": "code",
   "metadata": {
    "cell_id": "95bf44b862e5493fa8479ad94cd15477",
    "tags": [],
    "deepnote_to_be_reexecuted": false,
    "source_hash": "21d48a9d",
    "execution_start": 1654534508204,
    "execution_millis": 32,
    "deepnote_cell_type": "code",
    "deepnote_cell_height": 452
   },
   "source": "df = df.sample(frac=1).reset_index(drop=True)\ndf.head()",
   "execution_count": 4,
   "outputs": [
    {
     "output_type": "execute_result",
     "execution_count": 4,
     "data": {
      "application/vnd.deepnote.dataframe.v3+json": {
       "column_count": 4,
       "row_count": 5,
       "columns": [
        {
         "name": "id",
         "dtype": "object",
         "stats": {
          "unique_count": 5,
          "nan_count": 0,
          "categories": [
           {
            "name": "11703_9",
            "count": 1
           },
           {
            "name": "6742_8",
            "count": 1
           },
           {
            "name": "3 others",
            "count": 3
           }
          ]
         }
        },
        {
         "name": "sentiment",
         "dtype": "int64",
         "stats": {
          "unique_count": 2,
          "nan_count": 0,
          "min": "0",
          "max": "1",
          "histogram": [
           {
            "bin_start": 0,
            "bin_end": 0.1,
            "count": 1
           },
           {
            "bin_start": 0.1,
            "bin_end": 0.2,
            "count": 0
           },
           {
            "bin_start": 0.2,
            "bin_end": 0.30000000000000004,
            "count": 0
           },
           {
            "bin_start": 0.30000000000000004,
            "bin_end": 0.4,
            "count": 0
           },
           {
            "bin_start": 0.4,
            "bin_end": 0.5,
            "count": 0
           },
           {
            "bin_start": 0.5,
            "bin_end": 0.6000000000000001,
            "count": 0
           },
           {
            "bin_start": 0.6000000000000001,
            "bin_end": 0.7000000000000001,
            "count": 0
           },
           {
            "bin_start": 0.7000000000000001,
            "bin_end": 0.8,
            "count": 0
           },
           {
            "bin_start": 0.8,
            "bin_end": 0.9,
            "count": 0
           },
           {
            "bin_start": 0.9,
            "bin_end": 1,
            "count": 4
           }
          ]
         }
        },
        {
         "name": "review",
         "dtype": "object",
         "stats": {
          "unique_count": 5,
          "nan_count": 0,
          "categories": [
           {
            "name": "This is a great movie. Some will disagree with me but , if you know anything about the bible you know it is. I think everyone should see it!! I agree a new updated version like be nice but the message is still right on. If you can see this movie. Is not a \\scare the hell of you movie\\\",it is truthful with the Bible. I think the U. N. will play a major role in the world government to come. The last days are lining up with the Bible. Look at what has happened with the chip for dogs and cats that now has come to light to protect on children from being kidnapped. It's the size of a grain of rice. This I feel is the fore runner of the mark of the beast spoken of in the Bible. Without the mark you can't sell or buy, with this chip that small in the future there is no telling how much info can be put on it.\"",
            "count": 1
           },
           {
            "name": "Gene Tierney and Dana Andrews, who were both so memorable in 1944's \\Laura, re-teamed for this excellent 1950 film-noir.<br /><br />An embittered policeman, Andrews as Mark, can't get over the fact that his father was a hoodlum who died in a police shootout while trying to break out of jail. As a result of his bitterness, Mark doesn't know when to stop using his hands. It's this inability that leads to the accidental death of a small-time hood.(Craig Stevens)<br /><br />In trying to frame gangster Gary Merrill, Mark unintentionally puts the heat on innocent cab-drive, Tom Tully, who is the father of Gene Tierney, who was separated by Stevens.<br /><br />This is a well-thought out film dealing with the conscience of a basically decent human being.<br /><br />The ending is not exactly upbeat as Mark will have to face the music. At least, he finally admits to what he has done.\"",
            "count": 1
           },
           {
            "name": "3 others",
            "count": 3
           }
          ]
         }
        },
        {
         "name": "kfold",
         "dtype": "int64",
         "stats": {
          "unique_count": 1,
          "nan_count": 0,
          "min": "-1",
          "max": "-1",
          "histogram": [
           {
            "bin_start": -1.5,
            "bin_end": -1.4,
            "count": 0
           },
           {
            "bin_start": -1.4,
            "bin_end": -1.3,
            "count": 0
           },
           {
            "bin_start": -1.3,
            "bin_end": -1.2,
            "count": 0
           },
           {
            "bin_start": -1.2,
            "bin_end": -1.1,
            "count": 0
           },
           {
            "bin_start": -1.1,
            "bin_end": -1,
            "count": 0
           },
           {
            "bin_start": -1,
            "bin_end": -0.8999999999999999,
            "count": 5
           },
           {
            "bin_start": -0.8999999999999999,
            "bin_end": -0.7999999999999999,
            "count": 0
           },
           {
            "bin_start": -0.7999999999999999,
            "bin_end": -0.7,
            "count": 0
           },
           {
            "bin_start": -0.7,
            "bin_end": -0.6,
            "count": 0
           },
           {
            "bin_start": -0.6,
            "bin_end": -0.5,
            "count": 0
           }
          ]
         }
        },
        {
         "name": "_deepnote_index_column",
         "dtype": "int64"
        }
       ],
       "rows": [
        {
         "id": "11703_9",
         "sentiment": 1,
         "review": "This is a great movie. Some will disagree with me but , if you know anything about the bible you know it is. I think everyone should see it!! I agree a new updated version like be nice but the message is still right on. If you can see this movie. Is not a \\scare the hell of you movie\\\",it is truthful with the Bible. I think the U. N. will play a major role in the world government to come. The last days are lining up with the Bible. Look at what has happened with the chip for dogs and cats that now has come to light to protect on children from being kidnapped. It's the size of a grain of rice. This I feel is the fore runner of the mark of the beast spoken of in the Bible. Without the mark you can't sell or buy, with this chip that small in the future there is no telling how much info can be put on it.\"",
         "kfold": -1,
         "_deepnote_index_column": 0
        },
        {
         "id": "6742_8",
         "sentiment": 1,
         "review": "Gene Tierney and Dana Andrews, who were both so memorable in 1944's \\Laura, re-teamed for this excellent 1950 film-noir.<br /><br />An embittered policeman, Andrews as Mark, can't get over the fact that his father was a hoodlum who died in a police shootout while trying to break out of jail. As a result of his bitterness, Mark doesn't know when to stop using his hands. It's this inability that leads to the accidental death of a small-time hood.(Craig Stevens)<br /><br />In trying to frame gangster Gary Merrill, Mark unintentionally puts the heat on innocent cab-drive, Tom Tully, who is the father of Gene Tierney, who was separated by Stevens.<br /><br />This is a well-thought out film dealing with the conscience of a basically decent human being.<br /><br />The ending is not exactly upbeat as Mark will have to face the music. At least, he finally admits to what he has done.\"",
         "kfold": -1,
         "_deepnote_index_column": 1
        },
        {
         "id": "10071_1",
         "sentiment": 0,
         "review": "I saw this film at its premier at Sundance 09.<br /><br />Since American Beauty is a movie that had something to say, I had hopes for Towelhead. Unfortunately, it was a disappointment. In fact, of countless movies I've seen in almost a dozen Sundance festivals, Towelhead is the only Sundance movie I've ever wanted to walk out early from.<br /><br />The worst problem with Towelhead is that it so obviously originates with a collection of \\provocative\\\" concepts concerning cultural stereotypes, rather than with an organic human drama. The screenplay derives from the novel of the same name by Alicia Erian. The famous Edith Wharton quote comes to mind: I have never known a novel that was good enough to be good in spite of its being adapted to the author's political views. That observation is especially devastating for Towelhead because its political views are so stale and simplistic. If there ever was a time when Towelhead's white male villains, condescending portrayals of blacks, ironic t…",
         "kfold": -1,
         "_deepnote_index_column": 2
        },
        {
         "id": "9841_7",
         "sentiment": 1,
         "review": "I love cartoons. They can show things that films with 'real' actors and scenery cannot - though computer effects are changing that more and more. They can push the boundaries of satire ('The Simpsons'), good taste ('South Park'), spectacle ('Aladdin'), or reality ('Toy Story'). There are some good examples of this in 'Ice Age', such as when we see a motley herd of now-extinct mammals migrating across countryside, chatting like old friends. Such scenes are a pleasure to watch, as we get the feeling of both the familiar and the strange at the same time, usually in a way that makes us laugh. While Ice Age is not as good as the top animated movies of all time, it's a really fun film. Sit back, enjoy the deliberate anachronisms, the lovely backgrounds and the belly-laughs.<br /><br />The story follows Manfred the grumpy mammoth, Sid, an idiotic sloth, and Diego, a sabretooth tiger, as they take a human baby back to his tribe - for very different reasons. On the way, naturally, they have a …",
         "kfold": -1,
         "_deepnote_index_column": 3
        },
        {
         "id": "11579_10",
         "sentiment": 1,
         "review": "this movie is a masterpiece a story of a young woman during the war , and it really happen , not exactly as the movie , but it is a great story , i was impress by this film ,the acting and the story where great i like this film because it is a true story it's Giff me a feeling that i was there and i feel sorry for the ca-rector that Maruschka Detmers is playing because who wants to end here life that way. i recommend that everybody have to see this film , special the young ones and ma by the learn something from this film. This film you can compare whit the movie soldier from orange or any real story that happened in the WW2.",
         "kfold": -1,
         "_deepnote_index_column": 4
        }
       ]
      },
      "text/plain": "         id  sentiment                                             review  \\\n0   11703_9          1  This is a great movie. Some will disagree with...   \n1    6742_8          1  Gene Tierney and Dana Andrews, who were both s...   \n2   10071_1          0  I saw this film at its premier at Sundance 09....   \n3    9841_7          1  I love cartoons. They can show things that fil...   \n4  11579_10          1  this movie is a masterpiece a story of a young...   \n\n   kfold  \n0     -1  \n1     -1  \n2     -1  \n3     -1  \n4     -1  ",
      "text/html": "<div>\n<style scoped>\n    .dataframe tbody tr th:only-of-type {\n        vertical-align: middle;\n    }\n\n    .dataframe tbody tr th {\n        vertical-align: top;\n    }\n\n    .dataframe thead th {\n        text-align: right;\n    }\n</style>\n<table border=\"1\" class=\"dataframe\">\n  <thead>\n    <tr style=\"text-align: right;\">\n      <th></th>\n      <th>id</th>\n      <th>sentiment</th>\n      <th>review</th>\n      <th>kfold</th>\n    </tr>\n  </thead>\n  <tbody>\n    <tr>\n      <th>0</th>\n      <td>11703_9</td>\n      <td>1</td>\n      <td>This is a great movie. Some will disagree with...</td>\n      <td>-1</td>\n    </tr>\n    <tr>\n      <th>1</th>\n      <td>6742_8</td>\n      <td>1</td>\n      <td>Gene Tierney and Dana Andrews, who were both s...</td>\n      <td>-1</td>\n    </tr>\n    <tr>\n      <th>2</th>\n      <td>10071_1</td>\n      <td>0</td>\n      <td>I saw this film at its premier at Sundance 09....</td>\n      <td>-1</td>\n    </tr>\n    <tr>\n      <th>3</th>\n      <td>9841_7</td>\n      <td>1</td>\n      <td>I love cartoons. They can show things that fil...</td>\n      <td>-1</td>\n    </tr>\n    <tr>\n      <th>4</th>\n      <td>11579_10</td>\n      <td>1</td>\n      <td>this movie is a masterpiece a story of a young...</td>\n      <td>-1</td>\n    </tr>\n  </tbody>\n</table>\n</div>"
     },
     "metadata": {}
    }
   ]
  },
  {
   "cell_type": "markdown",
   "source": "Perfectly balanced data",
   "metadata": {
    "cell_id": "72948f756eb14b9ca11e7c059f907098",
    "tags": [],
    "deepnote_cell_type": "markdown",
    "deepnote_cell_height": 52.390625
   }
  },
  {
   "cell_type": "code",
   "metadata": {
    "cell_id": "8a1958031e744a23add80818fe747aca",
    "tags": [],
    "deepnote_to_be_reexecuted": false,
    "source_hash": "be7cd1f4",
    "execution_start": 1654534508243,
    "execution_millis": 13,
    "deepnote_cell_type": "code",
    "deepnote_cell_height": 156.5625,
    "deepnote_output_heights": [
     59.5625
    ]
   },
   "source": "df.sentiment.value_counts()",
   "execution_count": 5,
   "outputs": [
    {
     "output_type": "execute_result",
     "execution_count": 5,
     "data": {
      "text/plain": "0    12500\n1    12500\nName: sentiment, dtype: int64"
     },
     "metadata": {}
    }
   ]
  },
  {
   "cell_type": "code",
   "metadata": {
    "cell_id": "a0c3b57a8a2a473494c3c60f13a1dd1e",
    "tags": [],
    "deepnote_to_be_reexecuted": false,
    "source_hash": "1008572d",
    "execution_start": 1654534508303,
    "execution_millis": 380731,
    "deepnote_cell_type": "code",
    "deepnote_cell_height": 81
   },
   "source": "y = df.sentiment.values",
   "execution_count": 6,
   "outputs": []
  },
  {
   "cell_type": "markdown",
   "source": "K-Fold splitting (into 5 splits)\n\n`.split()` method returns both training and testing indices for each fold",
   "metadata": {
    "cell_id": "dc8897a48f0e44b783ab29c401a2ce16",
    "tags": [],
    "deepnote_cell_type": "markdown",
    "deepnote_cell_height": 111.171875
   }
  },
  {
   "cell_type": "code",
   "metadata": {
    "cell_id": "8ae172af8c624cd8a2c3fbe17af2e1d8",
    "tags": [],
    "deepnote_to_be_reexecuted": false,
    "source_hash": "e4d7afc2",
    "execution_start": 1654534508304,
    "execution_millis": 13,
    "deepnote_cell_type": "code",
    "deepnote_cell_height": 524
   },
   "source": "skf = StratifiedKFold(n_splits=5)\n\nfor f, (t_, v_) in enumerate(skf.split(X=df, y=y)):\n    df.loc[v_, \"kfold\"] = f\n\ndf.sample(frac=0.1, random_state=RAND).head()",
   "execution_count": 7,
   "outputs": [
    {
     "output_type": "execute_result",
     "execution_count": 7,
     "data": {
      "application/vnd.deepnote.dataframe.v3+json": {
       "column_count": 4,
       "row_count": 5,
       "columns": [
        {
         "name": "id",
         "dtype": "object",
         "stats": {
          "unique_count": 5,
          "nan_count": 0,
          "categories": [
           {
            "name": "1927_8",
            "count": 1
           },
           {
            "name": "8398_3",
            "count": 1
           },
           {
            "name": "3 others",
            "count": 3
           }
          ]
         }
        },
        {
         "name": "sentiment",
         "dtype": "int64",
         "stats": {
          "unique_count": 2,
          "nan_count": 0,
          "min": "0",
          "max": "1",
          "histogram": [
           {
            "bin_start": 0,
            "bin_end": 0.1,
            "count": 3
           },
           {
            "bin_start": 0.1,
            "bin_end": 0.2,
            "count": 0
           },
           {
            "bin_start": 0.2,
            "bin_end": 0.30000000000000004,
            "count": 0
           },
           {
            "bin_start": 0.30000000000000004,
            "bin_end": 0.4,
            "count": 0
           },
           {
            "bin_start": 0.4,
            "bin_end": 0.5,
            "count": 0
           },
           {
            "bin_start": 0.5,
            "bin_end": 0.6000000000000001,
            "count": 0
           },
           {
            "bin_start": 0.6000000000000001,
            "bin_end": 0.7000000000000001,
            "count": 0
           },
           {
            "bin_start": 0.7000000000000001,
            "bin_end": 0.8,
            "count": 0
           },
           {
            "bin_start": 0.8,
            "bin_end": 0.9,
            "count": 0
           },
           {
            "bin_start": 0.9,
            "bin_end": 1,
            "count": 2
           }
          ]
         }
        },
        {
         "name": "review",
         "dtype": "object",
         "stats": {
          "unique_count": 5,
          "nan_count": 0,
          "categories": [
           {
            "name": "With the death of GEORGE NADER, on 4 February 2002, I thought of this most interesting program, which even though it had only a short run, was a tremendous idea with good story lines throughout. Generally unseen for over 40+ years it would be worth viewing again. The opening credits showed many differing images, one of which was a snippit of COLONEL JOHN PAUL STAPP, riding his famed rocket sled, at the point where he was often referred to as \\The Fastest Man Alive\\\".\"",
            "count": 1
           },
           {
            "name": "Schlocky '70s horror films...ya gotta love 'em. In contrast to today's boring slasher flicks, these K-tel specials actually do something scary and do not resort to a tired formula.<br /><br />This is a B movie about the making of a B movie...that went horribly wrong. Faith Domergue (This Island Earth) stars as an over-the-hill, B movie queen making a movie about a series of grisly murders that befell a family in their home. Her boyfriend/director, who looks and acts like Gordon Jump with an attitude, is filming on location and on a tight schedule. The Ken doll co-star discovers a book of Tibetian chants that they work into the script to add \\realism\\\". Unfortunately, \\\"realism\\\" is something they could have done without.<br /><br />John Carradine, having long since given up looking for the 17th gland (The Unearthly), now eeks out a humble existence as the caretaker for the estate. He goes about his daily work, but always seems to run afoul of the director.<br /><br />The horror builds slowly; a dead cat here, John Carradine entering a grave there, finally culminating in seven, yes seven murders. (At least there's truth in advertising.) It's just sad that the ghoul didn't understand that there was a movie being made above him. How was poor Faith to know that those darn Tibetian chants would actually work? Face it, you just can't go around tugging on Satan's coat and expect him to take it lying down.<br /><br />Sterno says perform an autopsy on The House of Seven Corpses.\"",
            "count": 1
           },
           {
            "name": "3 others",
            "count": 3
           }
          ]
         }
        },
        {
         "name": "kfold",
         "dtype": "int64",
         "stats": {
          "unique_count": 5,
          "nan_count": 0,
          "min": "0",
          "max": "4",
          "histogram": [
           {
            "bin_start": 0,
            "bin_end": 0.4,
            "count": 1
           },
           {
            "bin_start": 0.4,
            "bin_end": 0.8,
            "count": 0
           },
           {
            "bin_start": 0.8,
            "bin_end": 1.2000000000000002,
            "count": 1
           },
           {
            "bin_start": 1.2000000000000002,
            "bin_end": 1.6,
            "count": 0
           },
           {
            "bin_start": 1.6,
            "bin_end": 2,
            "count": 0
           },
           {
            "bin_start": 2,
            "bin_end": 2.4000000000000004,
            "count": 1
           },
           {
            "bin_start": 2.4000000000000004,
            "bin_end": 2.8000000000000003,
            "count": 0
           },
           {
            "bin_start": 2.8000000000000003,
            "bin_end": 3.2,
            "count": 1
           },
           {
            "bin_start": 3.2,
            "bin_end": 3.6,
            "count": 0
           },
           {
            "bin_start": 3.6,
            "bin_end": 4,
            "count": 1
           }
          ]
         }
        },
        {
         "name": "_deepnote_index_column",
         "dtype": "int64"
        }
       ],
       "rows": [
        {
         "id": "1927_8",
         "sentiment": 1,
         "review": "With the death of GEORGE NADER, on 4 February 2002, I thought of this most interesting program, which even though it had only a short run, was a tremendous idea with good story lines throughout. Generally unseen for over 40+ years it would be worth viewing again. The opening credits showed many differing images, one of which was a snippit of COLONEL JOHN PAUL STAPP, riding his famed rocket sled, at the point where he was often referred to as \\The Fastest Man Alive\\\".\"",
         "kfold": 3,
         "_deepnote_index_column": 18634
        },
        {
         "id": "8398_3",
         "sentiment": 0,
         "review": "Schlocky '70s horror films...ya gotta love 'em. In contrast to today's boring slasher flicks, these K-tel specials actually do something scary and do not resort to a tired formula.<br /><br />This is a B movie about the making of a B movie...that went horribly wrong. Faith Domergue (This Island Earth) stars as an over-the-hill, B movie queen making a movie about a series of grisly murders that befell a family in their home. Her boyfriend/director, who looks and acts like Gordon Jump with an attitude, is filming on location and on a tight schedule. The Ken doll co-star discovers a book of Tibetian chants that they work into the script to add \\realism\\\". Unfortunately, \\\"realism\\\" is something they could have done without.<br /><br />John Carradine, having long since given up looking for the 17th gland (The Unearthly), now eeks out a humble existence as the caretaker for the estate. He goes about his daily work, but always seems to run afoul of the director.<br /><br />The horror builds…",
         "kfold": 0,
         "_deepnote_index_column": 1333
        },
        {
         "id": "12385_1",
         "sentiment": 0,
         "review": "This film is so ridiculously idiot that you may actually laugh at it. But no, even this is too much for this lost meters of celluloid. I found it as an offer in a magazine and that's why I've seen it. I regret the time I lost to see this. 1 out of 10 (because they don't have a lower grade).",
         "kfold": 4,
         "_deepnote_index_column": 20315
        },
        {
         "id": "12330_4",
         "sentiment": 0,
         "review": "Let's put political correctness aside and just look at this in terms of the numerous sex comedies that came out in the 1980's because I for one don't think this is any better or any worse than the others. Unless your some religious kook or an uptight female you can probably view a silly film such as this without getting all worked up about the content and I personally had a totally innocuous feeling towards this before and after watching it. Story is set in Albuquerque, New Mexico where a rich 15 year old boy named Phillip \\Philly\\\" Fillmore (Eric Brown) is naturally horny as hell and starts spying on the attractive maid that has just started working for his father.<br /><br />*****SPOILER ALERT***** Nicole Mallow (Sylvia Kristel) is friendly to Philly but things heat up when his father goes out of town on business and she starts to flirt with him to the point where she invites him into her bedroom to watch her undress. Philly is awkward and doesn't know how to react at first but soon…",
         "kfold": 1,
         "_deepnote_index_column": 6357
        },
        {
         "id": "10645_8",
         "sentiment": 1,
         "review": "Adolf Hitler's maniacal desire to impose his will on the rest of the world is the subject of this second in a seven part series of films produced by the U.S. War Department as an instructional tool for new soldiers entering the Armed Forces during World War II. Hitler's plan was methodical and well conceived, starting with the conquest of Eastern Europe, expanding to the European heartland, then moving on to the 'World Island' consisting of Europe, Asia and Africa. His final move would be to reach across the oceans for the ultimate conquest of the Americas and the World.<br /><br />In 1935, Hitler ordered national conscription, as the rest of the country fell under his evil spell. Grade school children sang his praises, and young German boys received training and indoctrination in military camps. Marching unopposed into Austria in 1938, Hitler followed by annexing a strip of land bordering Germany and Czechoslovakia called Sudetenland. In 1939, Hitler took all of Czechoslovakia. Later…",
         "kfold": 2,
         "_deepnote_index_column": 10496
        }
       ]
      },
      "text/plain": "            id  sentiment                                             review  \\\n18634   1927_8          1  With the death of GEORGE NADER, on 4 February ...   \n1333    8398_3          0  Schlocky '70s horror films...ya gotta love 'em...   \n20315  12385_1          0  This film is so ridiculously idiot that you ma...   \n6357   12330_4          0  Let's put political correctness aside and just...   \n10496  10645_8          1  Adolf Hitler's maniacal desire to impose his w...   \n\n       kfold  \n18634      3  \n1333       0  \n20315      4  \n6357       1  \n10496      2  ",
      "text/html": "<div>\n<style scoped>\n    .dataframe tbody tr th:only-of-type {\n        vertical-align: middle;\n    }\n\n    .dataframe tbody tr th {\n        vertical-align: top;\n    }\n\n    .dataframe thead th {\n        text-align: right;\n    }\n</style>\n<table border=\"1\" class=\"dataframe\">\n  <thead>\n    <tr style=\"text-align: right;\">\n      <th></th>\n      <th>id</th>\n      <th>sentiment</th>\n      <th>review</th>\n      <th>kfold</th>\n    </tr>\n  </thead>\n  <tbody>\n    <tr>\n      <th>18634</th>\n      <td>1927_8</td>\n      <td>1</td>\n      <td>With the death of GEORGE NADER, on 4 February ...</td>\n      <td>3</td>\n    </tr>\n    <tr>\n      <th>1333</th>\n      <td>8398_3</td>\n      <td>0</td>\n      <td>Schlocky '70s horror films...ya gotta love 'em...</td>\n      <td>0</td>\n    </tr>\n    <tr>\n      <th>20315</th>\n      <td>12385_1</td>\n      <td>0</td>\n      <td>This film is so ridiculously idiot that you ma...</td>\n      <td>4</td>\n    </tr>\n    <tr>\n      <th>6357</th>\n      <td>12330_4</td>\n      <td>0</td>\n      <td>Let's put political correctness aside and just...</td>\n      <td>1</td>\n    </tr>\n    <tr>\n      <th>10496</th>\n      <td>10645_8</td>\n      <td>1</td>\n      <td>Adolf Hitler's maniacal desire to impose his w...</td>\n      <td>2</td>\n    </tr>\n  </tbody>\n</table>\n</div>"
     },
     "metadata": {}
    }
   ]
  },
  {
   "cell_type": "markdown",
   "source": "Saving folded dataframe",
   "metadata": {
    "cell_id": "6439dcffe717415b988de695f3cf17da",
    "tags": [],
    "deepnote_cell_type": "markdown",
    "deepnote_cell_height": 52.390625
   }
  },
  {
   "cell_type": "code",
   "metadata": {
    "cell_id": "365de706984447829b5d7cc188f75a47",
    "tags": [],
    "deepnote_to_be_reexecuted": false,
    "source_hash": "55f65ef7",
    "execution_start": 1654534508320,
    "execution_millis": 681,
    "owner_user_id": "e585054d-6bb8-42b6-830c-74e53ff767e9",
    "deepnote_cell_type": "code",
    "deepnote_cell_height": 81
   },
   "source": "édf.to_csv(OUTPUT_DIR+\"01_train_folds.csv\", index=False)",
   "execution_count": 8,
   "outputs": []
  },
  {
   "cell_type": "markdown",
   "source": "<a style='text-decoration:none;line-height:16px;display:flex;color:#5B5B62;padding:10px;justify-content:end;' href='https://deepnote.com?utm_source=created-in-deepnote-cell&projectId=b1ab3b60-9130-40c7-8fa2-288950ad463c' target=\"_blank\">\n<img alt='Created in deepnote.com' style='display:inline;max-height:16px;margin:0px;margin-right:7.5px;' src='data:image/svg+xml;base64,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' > </img>\nCreated in <span style='font-weight:600;margin-left:4px;'>Deepnote</span></a>",
   "metadata": {
    "tags": [],
    "created_in_deepnote_cell": true,
    "deepnote_cell_type": "markdown"
   }
  }
 ],
 "nbformat": 4,
 "nbformat_minor": 2,
 "metadata": {
  "orig_nbformat": 2,
  "deepnote": {},
  "deepnote_notebook_id": "f26ec5f4-0c11-4d0c-abdf-840c1a0f89ff",
  "deepnote_execution_queue": []
 }
}