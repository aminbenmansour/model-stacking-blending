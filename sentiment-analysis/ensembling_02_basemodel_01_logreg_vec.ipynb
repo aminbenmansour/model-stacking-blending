{
 "cells": [
  {
   "cell_type": "code",
   "metadata": {
    "cell_id": "b34b7aa52dbb42a28cf42540989d54b7",
    "tags": [],
    "deepnote_to_be_reexecuted": false,
    "source_hash": "6deaaf1b",
    "execution_start": 1654549823952,
    "execution_millis": 820,
    "deepnote_cell_type": "code",
    "deepnote_cell_height": 99
   },
   "source": "import pandas as pd\nfrom sklearn.linear_model import LogisticRegression",
   "execution_count": 1,
   "outputs": []
  },
  {
   "cell_type": "code",
   "metadata": {
    "cell_id": "c0421acf3d4346f8b2c72d107a21d4b5",
    "tags": [],
    "deepnote_to_be_reexecuted": false,
    "source_hash": "60edcaab",
    "execution_start": 1654549824773,
    "execution_millis": 0,
    "deepnote_cell_type": "code",
    "deepnote_cell_height": 135
   },
   "source": "INPUT_DIR=\"../data-nlp/input/\"\nOUTPUT_DIR=\"../data-nlp/output/\"\n\nRAND=10",
   "execution_count": 2,
   "outputs": []
  },
  {
   "cell_type": "code",
   "metadata": {
    "cell_id": "bdc11480117e4ee9937b3632f545baec",
    "tags": [],
    "deepnote_to_be_reexecuted": false,
    "source_hash": "c84232c4",
    "execution_start": 1654549824773,
    "execution_millis": 17,
    "deepnote_cell_type": "code",
    "deepnote_cell_height": 99
   },
   "source": "from sklearn.feature_extraction.text import TfidfVectorizer\nfrom sklearn.metrics import roc_auc_score",
   "execution_count": 3,
   "outputs": []
  },
  {
   "cell_type": "code",
   "metadata": {
    "cell_id": "0c2a7168233848b0b1e5acc4e8345fcd",
    "tags": [],
    "deepnote_to_be_reexecuted": false,
    "source_hash": "f81dbf9a",
    "execution_start": 1654549824790,
    "execution_millis": 334,
    "deepnote_cell_type": "code",
    "deepnote_cell_height": 339.0625
   },
   "source": "df = pd.read_csv(OUTPUT_DIR + \"01_train_folds.csv\")\n\ndf.info()",
   "execution_count": 4,
   "outputs": [
    {
     "name": "stdout",
     "text": "<class 'pandas.core.frame.DataFrame'>\nRangeIndex: 25000 entries, 0 to 24999\nData columns (total 4 columns):\n #   Column     Non-Null Count  Dtype \n---  ------     --------------  ----- \n 0   id         25000 non-null  object\n 1   sentiment  25000 non-null  int64 \n 2   review     25000 non-null  object\n 3   kfold      25000 non-null  int64 \ndtypes: int64(2), object(2)\nmemory usage: 781.4+ KB\n",
     "output_type": "stream"
    }
   ]
  },
  {
   "cell_type": "code",
   "metadata": {
    "cell_id": "7649ae8d58d344c7b2bf3cf2d0dce15b",
    "tags": [],
    "deepnote_to_be_reexecuted": false,
    "source_hash": "85968a04",
    "execution_start": 1654549825126,
    "execution_millis": 5,
    "deepnote_cell_type": "code",
    "deepnote_cell_height": 81
   },
   "source": "df.review = df.review.astype(str)",
   "execution_count": 5,
   "outputs": []
  },
  {
   "cell_type": "code",
   "metadata": {
    "cell_id": "f614aca319174ae59bb30f3bc0f41adb",
    "tags": [],
    "deepnote_to_be_reexecuted": false,
    "source_hash": "a4490ee5",
    "execution_start": 1654549825135,
    "execution_millis": 5,
    "deepnote_cell_type": "code",
    "deepnote_cell_height": 513
   },
   "source": "def run_training(fold):\n\n    df_train = df[df.kfold != fold].reset_index(drop=True)\n    df_valid = df[df.kfold == fold].reset_index(drop=True)\n\n    tfv = TfidfVectorizer()\n    tfv.fit(df_train.review.values)\n\n    xtrain = tfv.transform(df_train.review.values)\n    xvalid = tfv.transform(df_valid.review.values)\n\n    ytrain = df_train.sentiment.values\n    yvalid = df_valid.sentiment.values\n\n    clf = LogisticRegression()\n    clf.fit(xtrain, ytrain)\n    pred = clf.predict_proba(xvalid)[:, 1]\n    \n    auc = roc_auc_score(yvalid, pred)\n    print(f\"fold={fold}, auc={auc}\")\n\n    df_valid.loc[:, \"lr_pred\"] = pred\n\n    return df_valid[[\"id\", \"sentiment\", \"kfold\", \"lr_pred\"]]\n",
   "execution_count": 6,
   "outputs": []
  },
  {
   "cell_type": "code",
   "metadata": {
    "cell_id": "1560fbe714564b92a984aa3ae695b22e",
    "tags": [],
    "deepnote_to_be_reexecuted": false,
    "source_hash": "c9899a6c",
    "execution_start": 1654549825171,
    "execution_millis": 24,
    "deepnote_cell_type": "code",
    "deepnote_cell_height": 199,
    "deepnote_output_heights": [
     102
    ]
   },
   "source": "df.review.describe()",
   "execution_count": 7,
   "outputs": [
    {
     "output_type": "execute_result",
     "execution_count": 7,
     "data": {
      "text/plain": "count                                                 25000\nunique                                                24904\ntop       This show comes up with interesting locations ...\nfreq                                                      3\nName: review, dtype: object"
     },
     "metadata": {}
    }
   ]
  },
  {
   "cell_type": "code",
   "metadata": {
    "cell_id": "9af4db2383594e19b2e0dcc9ba63dcd3",
    "tags": [],
    "deepnote_to_be_reexecuted": false,
    "source_hash": "9f6a0ffb",
    "execution_start": 1654549825196,
    "execution_millis": 57256,
    "deepnote_cell_type": "code",
    "deepnote_cell_height": 277.9375,
    "deepnote_output_heights": [
     607
    ]
   },
   "source": "dfs = []\nfor fold in range(5):\n    output_df = run_training(fold)\n    dfs.append(output_df)\n\nfinal_df = pd.concat(dfs)",
   "execution_count": 8,
   "outputs": [
    {
     "name": "stdout",
     "text": "fold=0, auc=0.9576803200000001\nfold=1, auc=0.9571987200000001\nfold=2, auc=0.95265712\nfold=3, auc=0.9548016000000001\nfold=4, auc=0.9564704000000002\n",
     "output_type": "stream"
    }
   ]
  },
  {
   "cell_type": "code",
   "metadata": {
    "cell_id": "d37303cee404498fa20421334f3f821f",
    "tags": [],
    "deepnote_to_be_reexecuted": false,
    "source_hash": "66ad094a",
    "execution_start": 1654549882440,
    "execution_millis": 69,
    "deepnote_cell_type": "code",
    "deepnote_cell_height": 434
   },
   "source": "final_df.head()",
   "execution_count": 9,
   "outputs": [
    {
     "output_type": "execute_result",
     "execution_count": 9,
     "data": {
      "application/vnd.deepnote.dataframe.v3+json": {
       "column_count": 4,
       "row_count": 5,
       "columns": [
        {
         "name": "id",
         "dtype": "object",
         "stats": {
          "unique_count": 5,
          "nan_count": 0,
          "categories": [
           {
            "name": "11703_9",
            "count": 1
           },
           {
            "name": "6742_8",
            "count": 1
           },
           {
            "name": "3 others",
            "count": 3
           }
          ]
         }
        },
        {
         "name": "sentiment",
         "dtype": "int64",
         "stats": {
          "unique_count": 2,
          "nan_count": 0,
          "min": "0",
          "max": "1",
          "histogram": [
           {
            "bin_start": 0,
            "bin_end": 0.1,
            "count": 1
           },
           {
            "bin_start": 0.1,
            "bin_end": 0.2,
            "count": 0
           },
           {
            "bin_start": 0.2,
            "bin_end": 0.30000000000000004,
            "count": 0
           },
           {
            "bin_start": 0.30000000000000004,
            "bin_end": 0.4,
            "count": 0
           },
           {
            "bin_start": 0.4,
            "bin_end": 0.5,
            "count": 0
           },
           {
            "bin_start": 0.5,
            "bin_end": 0.6000000000000001,
            "count": 0
           },
           {
            "bin_start": 0.6000000000000001,
            "bin_end": 0.7000000000000001,
            "count": 0
           },
           {
            "bin_start": 0.7000000000000001,
            "bin_end": 0.8,
            "count": 0
           },
           {
            "bin_start": 0.8,
            "bin_end": 0.9,
            "count": 0
           },
           {
            "bin_start": 0.9,
            "bin_end": 1,
            "count": 4
           }
          ]
         }
        },
        {
         "name": "kfold",
         "dtype": "int64",
         "stats": {
          "unique_count": 1,
          "nan_count": 0,
          "min": "0",
          "max": "0",
          "histogram": [
           {
            "bin_start": -0.5,
            "bin_end": -0.4,
            "count": 0
           },
           {
            "bin_start": -0.4,
            "bin_end": -0.3,
            "count": 0
           },
           {
            "bin_start": -0.3,
            "bin_end": -0.19999999999999996,
            "count": 0
           },
           {
            "bin_start": -0.19999999999999996,
            "bin_end": -0.09999999999999998,
            "count": 0
           },
           {
            "bin_start": -0.09999999999999998,
            "bin_end": 0,
            "count": 0
           },
           {
            "bin_start": 0,
            "bin_end": 0.10000000000000009,
            "count": 5
           },
           {
            "bin_start": 0.10000000000000009,
            "bin_end": 0.20000000000000007,
            "count": 0
           },
           {
            "bin_start": 0.20000000000000007,
            "bin_end": 0.30000000000000004,
            "count": 0
           },
           {
            "bin_start": 0.30000000000000004,
            "bin_end": 0.4,
            "count": 0
           },
           {
            "bin_start": 0.4,
            "bin_end": 0.5,
            "count": 0
           }
          ]
         }
        },
        {
         "name": "lr_pred",
         "dtype": "float64",
         "stats": {
          "unique_count": 5,
          "nan_count": 0,
          "min": "0.44115333831881975",
          "max": "0.9438076647798364",
          "histogram": [
           {
            "bin_start": 0.44115333831881975,
            "bin_end": 0.4914187709649214,
            "count": 1
           },
           {
            "bin_start": 0.4914187709649214,
            "bin_end": 0.5416842036110231,
            "count": 0
           },
           {
            "bin_start": 0.5416842036110231,
            "bin_end": 0.5919496362571247,
            "count": 0
           },
           {
            "bin_start": 0.5919496362571247,
            "bin_end": 0.6422150689032264,
            "count": 0
           },
           {
            "bin_start": 0.6422150689032264,
            "bin_end": 0.692480501549328,
            "count": 0
           },
           {
            "bin_start": 0.692480501549328,
            "bin_end": 0.7427459341954297,
            "count": 1
           },
           {
            "bin_start": 0.7427459341954297,
            "bin_end": 0.7930113668415313,
            "count": 0
           },
           {
            "bin_start": 0.7930113668415313,
            "bin_end": 0.843276799487633,
            "count": 0
           },
           {
            "bin_start": 0.843276799487633,
            "bin_end": 0.8935422321337347,
            "count": 1
           },
           {
            "bin_start": 0.8935422321337347,
            "bin_end": 0.9438076647798364,
            "count": 2
           }
          ]
         }
        },
        {
         "name": "_deepnote_index_column",
         "dtype": "int64"
        }
       ],
       "rows": [
        {
         "id": "11703_9",
         "sentiment": 1,
         "kfold": 0,
         "lr_pred": 0.8684212171112213,
         "_deepnote_index_column": 0
        },
        {
         "id": "6742_8",
         "sentiment": 1,
         "kfold": 0,
         "lr_pred": 0.7277634785273325,
         "_deepnote_index_column": 1
        },
        {
         "id": "10071_1",
         "sentiment": 0,
         "kfold": 0,
         "lr_pred": 0.44115333831881975,
         "_deepnote_index_column": 2
        },
        {
         "id": "9841_7",
         "sentiment": 1,
         "kfold": 0,
         "lr_pred": 0.9438076647798364,
         "_deepnote_index_column": 3
        },
        {
         "id": "11579_10",
         "sentiment": 1,
         "kfold": 0,
         "lr_pred": 0.9007529938842568,
         "_deepnote_index_column": 4
        }
       ]
      },
      "text/plain": "         id  sentiment  kfold   lr_pred\n0   11703_9          1      0  0.868421\n1    6742_8          1      0  0.727763\n2   10071_1          0      0  0.441153\n3    9841_7          1      0  0.943808\n4  11579_10          1      0  0.900753",
      "text/html": "<div>\n<style scoped>\n    .dataframe tbody tr th:only-of-type {\n        vertical-align: middle;\n    }\n\n    .dataframe tbody tr th {\n        vertical-align: top;\n    }\n\n    .dataframe thead th {\n        text-align: right;\n    }\n</style>\n<table border=\"1\" class=\"dataframe\">\n  <thead>\n    <tr style=\"text-align: right;\">\n      <th></th>\n      <th>id</th>\n      <th>sentiment</th>\n      <th>kfold</th>\n      <th>lr_pred</th>\n    </tr>\n  </thead>\n  <tbody>\n    <tr>\n      <th>0</th>\n      <td>11703_9</td>\n      <td>1</td>\n      <td>0</td>\n      <td>0.868421</td>\n    </tr>\n    <tr>\n      <th>1</th>\n      <td>6742_8</td>\n      <td>1</td>\n      <td>0</td>\n      <td>0.727763</td>\n    </tr>\n    <tr>\n      <th>2</th>\n      <td>10071_1</td>\n      <td>0</td>\n      <td>0</td>\n      <td>0.441153</td>\n    </tr>\n    <tr>\n      <th>3</th>\n      <td>9841_7</td>\n      <td>1</td>\n      <td>0</td>\n      <td>0.943808</td>\n    </tr>\n    <tr>\n      <th>4</th>\n      <td>11579_10</td>\n      <td>1</td>\n      <td>0</td>\n      <td>0.900753</td>\n    </tr>\n  </tbody>\n</table>\n</div>"
     },
     "metadata": {}
    }
   ]
  },
  {
   "cell_type": "code",
   "source": "",
   "metadata": {
    "cell_id": "5ea8c2e8e58d40d891acd4865605acd9",
    "deepnote_cell_type": "visualization"
   },
   "execution_count": null,
   "outputs": []
  },
  {
   "cell_type": "code",
   "metadata": {
    "cell_id": "0d22f52016574b2e9b5a22ba19b80150",
    "tags": [],
    "deepnote_to_be_reexecuted": false,
    "source_hash": "7670a7eb",
    "execution_start": 1654549882491,
    "execution_millis": 123,
    "owner_user_id": "e585054d-6bb8-42b6-830c-74e53ff767e9",
    "deepnote_cell_type": "code",
    "deepnote_cell_height": 129.1875,
    "deepnote_output_heights": [
     21.1875
    ]
   },
   "source": "print(final_df.shape)\nfinal_df.to_csv(f\"{OUTPUT_DIR}02_basemodel_01_logreg_vec.csv\", index=False)",
   "execution_count": 10,
   "outputs": [
    {
     "name": "stdout",
     "text": "(25000, 4)\n",
     "output_type": "stream"
    }
   ]
  },
  {
   "cell_type": "markdown",
   "source": "<a style='text-decoration:none;line-height:16px;display:flex;color:#5B5B62;padding:10px;justify-content:end;' href='https://deepnote.com?utm_source=created-in-deepnote-cell&projectId=b1ab3b60-9130-40c7-8fa2-288950ad463c' target=\"_blank\">\n<img alt='Created in deepnote.com' style='display:inline;max-height:16px;margin:0px;margin-right:7.5px;' src='data:image/svg+xml;base64,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' > </img>\nCreated in <span style='font-weight:600;margin-left:4px;'>Deepnote</span></a>",
   "metadata": {
    "tags": [],
    "created_in_deepnote_cell": true,
    "deepnote_cell_type": "markdown"
   }
  }
 ],
 "nbformat": 4,
 "nbformat_minor": 2,
 "metadata": {
  "orig_nbformat": 2,
  "deepnote": {},
  "deepnote_notebook_id": "bf81cc93-6816-4fc4-ae17-bf1f266b1a8a",
  "deepnote_execution_queue": []
 }
}