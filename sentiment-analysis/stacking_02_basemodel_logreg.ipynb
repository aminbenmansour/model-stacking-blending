{
 "cells": [
  {
   "cell_type": "code",
   "metadata": {
    "cell_id": "b34b7aa52dbb42a28cf42540989d54b7",
    "tags": [],
    "deepnote_to_be_reexecuted": false,
    "source_hash": "6deaaf1b",
    "execution_start": 1654540912703,
    "execution_millis": 1362,
    "deepnote_cell_type": "code",
    "deepnote_cell_height": 99
   },
   "source": "import pandas as pd\nfrom sklearn.linear_model import LogisticRegression",
   "outputs": [],
   "execution_count": null
  },
  {
   "cell_type": "code",
   "metadata": {
    "cell_id": "c0421acf3d4346f8b2c72d107a21d4b5",
    "tags": [],
    "deepnote_to_be_reexecuted": false,
    "source_hash": "60edcaab",
    "execution_start": 1654540914083,
    "execution_millis": 13,
    "deepnote_cell_type": "code",
    "deepnote_cell_height": 135
   },
   "source": "INPUT_DIR=\"../data-nlp/input/\"\nOUTPUT_DIR=\"../data-nlp/output/\"\n\nRAND=10",
   "outputs": [],
   "execution_count": null
  },
  {
   "cell_type": "code",
   "metadata": {
    "cell_id": "bdc11480117e4ee9937b3632f545baec",
    "tags": [],
    "deepnote_to_be_reexecuted": false,
    "source_hash": "c84232c4",
    "execution_start": 1654540914126,
    "execution_millis": 32,
    "deepnote_cell_type": "code",
    "deepnote_cell_height": 99
   },
   "source": "from sklearn.feature_extraction.text import TfidfVectorizer\nfrom sklearn.metrics import roc_auc_score",
   "outputs": [],
   "execution_count": null
  },
  {
   "cell_type": "code",
   "source": "df = pd.read_csv(OUTPUT_DIR + \"01_train_folds.csv\")\n\ndf.info()",
   "metadata": {
    "cell_id": "0c2a7168233848b0b1e5acc4e8345fcd",
    "tags": [],
    "deepnote_to_be_reexecuted": false,
    "source_hash": "f81dbf9a",
    "execution_start": 1654540914200,
    "execution_millis": 1115,
    "deepnote_cell_type": "code",
    "deepnote_cell_height": 339.0625
   },
   "outputs": [
    {
     "name": "stdout",
     "text": "<class 'pandas.core.frame.DataFrame'>\nRangeIndex: 25000 entries, 0 to 24999\nData columns (total 4 columns):\n #   Column     Non-Null Count  Dtype \n---  ------     --------------  ----- \n 0   id         25000 non-null  object\n 1   sentiment  25000 non-null  int64 \n 2   review     25000 non-null  object\n 3   kfold      25000 non-null  int64 \ndtypes: int64(2), object(2)\nmemory usage: 781.4+ KB\n",
     "output_type": "stream"
    }
   ],
   "execution_count": null
  },
  {
   "cell_type": "code",
   "source": "df.review = df.review.astype(str)",
   "metadata": {
    "cell_id": "7649ae8d58d344c7b2bf3cf2d0dce15b",
    "tags": [],
    "deepnote_to_be_reexecuted": false,
    "source_hash": "85968a04",
    "execution_start": 1654540914854,
    "execution_millis": 21,
    "deepnote_cell_type": "code",
    "deepnote_cell_height": 81
   },
   "outputs": [],
   "execution_count": null
  },
  {
   "cell_type": "code",
   "metadata": {
    "cell_id": "f614aca319174ae59bb30f3bc0f41adb",
    "tags": [],
    "deepnote_to_be_reexecuted": false,
    "source_hash": "a4490ee5",
    "execution_start": 1654540914922,
    "execution_millis": 9,
    "owner_user_id": "e585054d-6bb8-42b6-830c-74e53ff767e9",
    "deepnote_cell_type": "code",
    "deepnote_cell_height": 513
   },
   "source": "def run_training(fold):\n\n    df_train = df[df.kfold != fold].reset_index(drop=True)\n    df_valid = df[df.kfold == fold].reset_index(drop=True)\n\n    tfv = TfidfVectorizer()\n    tfv.fit(df_train.review.values)\n\n    xtrain = tfv.transform(df_train.review.values)\n    xvalid = tfv.transform(df_valid.review.values)\n\n    ytrain = df_train.sentiment.values\n    yvalid = df_valid.sentiment.values\n\n    clf = LogisticRegression()\n    clf.fit(xtrain, ytrain)\n    pred = clf.predict_proba(xvalid)[:, 1]\n    \n    auc = roc_auc_score(yvalid, pred)\n    print(f\"fold={fold}, auc={auc}\")\n\n    df_valid.loc[:, \"lr_pred\"] = pred\n\n    return df_valid[[\"id\", \"sentiment\", \"kfold\", \"lr_pred\"]]\n",
   "outputs": [],
   "execution_count": null
  },
  {
   "cell_type": "code",
   "source": "df.review.describe()",
   "metadata": {
    "cell_id": "1560fbe714564b92a984aa3ae695b22e",
    "tags": [],
    "deepnote_to_be_reexecuted": false,
    "source_hash": "c9899a6c",
    "execution_start": 1654540914941,
    "execution_millis": 390,
    "deepnote_cell_type": "code",
    "deepnote_cell_height": 194.9375,
    "deepnote_output_heights": [
     97.9375
    ]
   },
   "outputs": [
    {
     "output_type": "execute_result",
     "execution_count": 7,
     "data": {
      "text/plain": "count                                                 25000\nunique                                                24904\ntop       You do realize that you've been watching the E...\nfreq                                                      3\nName: review, dtype: object"
     },
     "metadata": {}
    }
   ],
   "execution_count": null
  },
  {
   "cell_type": "code",
   "source": "dfs = []\nfor fold in range(5):\n    output_df = run_training(fold)\n    dfs.append(output_df)\n\nfinal_df = pd.concat(dfs)",
   "metadata": {
    "cell_id": "9af4db2383594e19b2e0dcc9ba63dcd3",
    "tags": [],
    "deepnote_to_be_reexecuted": false,
    "source_hash": "9f6a0ffb",
    "execution_start": 1654540915115,
    "execution_millis": 152170,
    "deepnote_cell_type": "code",
    "deepnote_cell_height": 856,
    "deepnote_output_heights": [
     607
    ]
   },
   "outputs": [
    {
     "name": "stdout",
     "text": "fold=0, auc=0.9576803200000001\nfold=1, auc=0.9571987200000001\nfold=2, auc=0.95266112\nfold=3, auc=0.95480096\nfold=4, auc=0.9564700799999999\n",
     "output_type": "stream"
    }
   ],
   "execution_count": null
  },
  {
   "cell_type": "markdown",
   "source": "<a style='text-decoration:none;line-height:16px;display:flex;color:#5B5B62;padding:10px;justify-content:end;' href='https://deepnote.com?utm_source=created-in-deepnote-cell&projectId=b1ab3b60-9130-40c7-8fa2-288950ad463c' target=\"_blank\">\n<img alt='Created in deepnote.com' style='display:inline;max-height:16px;margin:0px;margin-right:7.5px;' src='data:image/svg+xml;base64,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' > </img>\nCreated in <span style='font-weight:600;margin-left:4px;'>Deepnote</span></a>",
   "metadata": {
    "tags": [],
    "created_in_deepnote_cell": true,
    "deepnote_cell_type": "markdown"
   }
  }
 ],
 "nbformat": 4,
 "nbformat_minor": 2,
 "metadata": {
  "orig_nbformat": 2,
  "deepnote": {},
  "deepnote_notebook_id": "bf81cc93-6816-4fc4-ae17-bf1f266b1a8a",
  "deepnote_execution_queue": []
 }
}