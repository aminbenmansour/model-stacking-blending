{
 "cells": [
  {
   "cell_type": "code",
   "metadata": {
    "tags": [],
    "deepnote_to_be_reexecuted": false,
    "source_hash": "4147530e",
    "execution_start": 1654552513011,
    "execution_millis": 1180,
    "cell_id": "cc37d52c-0779-4674-a7e1-611e9fa0842e",
    "deepnote_cell_type": "code",
    "deepnote_cell_height": 153
   },
   "source": "import pandas as pd\n\nfrom sklearn.linear_model import LogisticRegression\nfrom sklearn.ensemble import RandomForestClassifier\nfrom sklearn.decomposition import TruncatedSVD",
   "execution_count": 1,
   "outputs": []
  },
  {
   "cell_type": "code",
   "metadata": {
    "tags": [],
    "deepnote_to_be_reexecuted": false,
    "source_hash": "60edcaab",
    "execution_start": 1654552514195,
    "execution_millis": 8,
    "cell_id": "00001-f1cb607e-ee21-419a-ae1a-a8d52b351b69",
    "deepnote_cell_type": "code",
    "deepnote_cell_height": 135
   },
   "source": "INPUT_DIR=\"../data-nlp/input/\"\nOUTPUT_DIR=\"../data-nlp/output/\"\n\nRAND=10",
   "execution_count": 2,
   "outputs": []
  },
  {
   "cell_type": "code",
   "metadata": {
    "tags": [],
    "deepnote_to_be_reexecuted": false,
    "source_hash": "c84232c4",
    "execution_start": 1654552514209,
    "execution_millis": 19,
    "cell_id": "00002-909d3a4b-d4f3-4b0b-9332-9b75a4437a68",
    "deepnote_cell_type": "code",
    "deepnote_cell_height": 99
   },
   "source": "from sklearn.feature_extraction.text import TfidfVectorizer\nfrom sklearn.metrics import roc_auc_score",
   "execution_count": 3,
   "outputs": []
  },
  {
   "cell_type": "code",
   "metadata": {
    "tags": [],
    "deepnote_to_be_reexecuted": false,
    "source_hash": "f81dbf9a",
    "execution_start": 1654552514233,
    "execution_millis": 1084,
    "cell_id": "00003-57408b32-c69c-4ad2-aebb-1209cd3597a6",
    "deepnote_cell_type": "code",
    "deepnote_cell_height": 339.0625
   },
   "source": "df = pd.read_csv(OUTPUT_DIR + \"01_train_folds.csv\")\n\ndf.info()",
   "execution_count": 4,
   "outputs": [
    {
     "name": "stdout",
     "text": "<class 'pandas.core.frame.DataFrame'>\nRangeIndex: 25000 entries, 0 to 24999\nData columns (total 4 columns):\n #   Column     Non-Null Count  Dtype \n---  ------     --------------  ----- \n 0   id         25000 non-null  object\n 1   sentiment  25000 non-null  int64 \n 2   review     25000 non-null  object\n 3   kfold      25000 non-null  int64 \ndtypes: int64(2), object(2)\nmemory usage: 781.4+ KB\n",
     "output_type": "stream"
    }
   ]
  },
  {
   "cell_type": "code",
   "metadata": {
    "tags": [],
    "deepnote_to_be_reexecuted": false,
    "source_hash": "85968a04",
    "execution_start": 1654552514754,
    "execution_millis": 12,
    "cell_id": "00004-d95c0a45-91a2-4eaa-a46b-4fe681cc83e0",
    "deepnote_cell_type": "code",
    "deepnote_cell_height": 81
   },
   "source": "df.review = df.review.astype(str)",
   "execution_count": 5,
   "outputs": []
  },
  {
   "cell_type": "code",
   "metadata": {
    "tags": [],
    "deepnote_to_be_reexecuted": false,
    "source_hash": "4141160f",
    "execution_start": 1654552514774,
    "execution_millis": 5,
    "cell_id": "00005-9a2a928b-ef1b-4aa2-9b5f-ef19721d8f9d",
    "deepnote_cell_type": "code",
    "deepnote_cell_height": 603
   },
   "source": "def run_training(fold):\n\n    df_train = df[df.kfold != fold].reset_index(drop=True)\n    df_valid = df[df.kfold == fold].reset_index(drop=True)\n\n    tfv = TfidfVectorizer()\n    tfv.fit(df_train.review.values)\n\n    xtrain = tfv.transform(df_train.review.values)\n    xvalid = tfv.transform(df_valid.review.values)\n\n    svd = TruncatedSVD(n_components=120)\n    svd.fit(xtrain)\n    xtrain_svd = svd.transform(xtrain)\n    xvalid_svd = svd.transform(xvalid)\n\n    ytrain = df_train.sentiment.values\n    yvalid = df_valid.sentiment.values\n\n    clf = RandomForestClassifier(n_estimators=100, n_jobs=-1)\n    clf.fit(xtrain_svd, ytrain)\n    pred = clf.predict_proba(xvalid_svd)[:, 1]\n    \n    auc = roc_auc_score(yvalid, pred)\n    print(f\"fold={fold}, auc={auc}\")\n\n    df_valid.loc[:, \"rf_svd_pred\"] = pred\n\n    return df_valid[[\"id\", \"sentiment\", \"kfold\", \"rf_svd_pred\"]]\n",
   "execution_count": 6,
   "outputs": []
  },
  {
   "cell_type": "code",
   "metadata": {
    "tags": [],
    "deepnote_to_be_reexecuted": false,
    "source_hash": "c9899a6c",
    "execution_start": 1654552514808,
    "execution_millis": 509,
    "cell_id": "00006-1744c22c-b85a-45e6-95be-6b87d88ab2fd",
    "deepnote_cell_type": "code",
    "deepnote_cell_height": 194.9375,
    "deepnote_output_heights": [
     97.9375
    ]
   },
   "source": "df.review.describe()",
   "execution_count": 7,
   "outputs": [
    {
     "output_type": "execute_result",
     "execution_count": 7,
     "data": {
      "text/plain": "count                                                 25000\nunique                                                24904\ntop       You do realize that you've been watching the E...\nfreq                                                      3\nName: review, dtype: object"
     },
     "metadata": {}
    }
   ]
  },
  {
   "cell_type": "code",
   "metadata": {
    "tags": [],
    "deepnote_to_be_reexecuted": false,
    "source_hash": "17e3dbca",
    "execution_start": 1654552514833,
    "execution_millis": 6,
    "cell_id": "00007-8331bd98-f8d9-4f62-9c02-763555d3d10f",
    "deepnote_cell_type": "code",
    "deepnote_cell_height": 99
   },
   "source": "import warnings\nwarnings.filterwarnings('ignore')",
   "execution_count": 8,
   "outputs": []
  },
  {
   "cell_type": "code",
   "metadata": {
    "tags": [],
    "deepnote_to_be_reexecuted": false,
    "source_hash": "9f6a0ffb",
    "execution_start": 1654552514843,
    "execution_millis": 169759,
    "cell_id": "00008-2eac8d26-8980-43e9-946e-8a4dd39ca39d",
    "deepnote_cell_type": "code",
    "deepnote_cell_height": 277.9375
   },
   "source": "dfs = []\nfor fold in range(5):\n    output_df = run_training(fold)\n    dfs.append(output_df)\n\nfinal_df = pd.concat(dfs)",
   "execution_count": 9,
   "outputs": [
    {
     "name": "stdout",
     "text": "fold=0, auc=0.885118\nfold=1, auc=0.87919104\nfold=2, auc=0.8788685599999999\nfold=3, auc=0.87318816\nfold=4, auc=0.8821340800000002\n",
     "output_type": "stream"
    }
   ]
  },
  {
   "cell_type": "code",
   "metadata": {
    "tags": [],
    "deepnote_to_be_reexecuted": false,
    "source_hash": "66ad094a",
    "execution_start": 1654552684608,
    "execution_millis": 25,
    "cell_id": "00009-ab71c335-70aa-4363-bb98-4aba1a312808",
    "deepnote_cell_type": "code",
    "deepnote_cell_height": 410
   },
   "source": "final_df.head()",
   "execution_count": 10,
   "outputs": [
    {
     "output_type": "execute_result",
     "execution_count": 10,
     "data": {
      "application/vnd.deepnote.dataframe.v3+json": {
       "column_count": 4,
       "row_count": 5,
       "columns": [
        {
         "name": "id",
         "dtype": "object",
         "stats": {
          "unique_count": 5,
          "nan_count": 0,
          "categories": [
           {
            "name": "11703_9",
            "count": 1
           },
           {
            "name": "6742_8",
            "count": 1
           },
           {
            "name": "3 others",
            "count": 3
           }
          ]
         }
        },
        {
         "name": "sentiment",
         "dtype": "int64",
         "stats": {
          "unique_count": 2,
          "nan_count": 0,
          "min": "0",
          "max": "1",
          "histogram": [
           {
            "bin_start": 0,
            "bin_end": 0.1,
            "count": 1
           },
           {
            "bin_start": 0.1,
            "bin_end": 0.2,
            "count": 0
           },
           {
            "bin_start": 0.2,
            "bin_end": 0.30000000000000004,
            "count": 0
           },
           {
            "bin_start": 0.30000000000000004,
            "bin_end": 0.4,
            "count": 0
           },
           {
            "bin_start": 0.4,
            "bin_end": 0.5,
            "count": 0
           },
           {
            "bin_start": 0.5,
            "bin_end": 0.6000000000000001,
            "count": 0
           },
           {
            "bin_start": 0.6000000000000001,
            "bin_end": 0.7000000000000001,
            "count": 0
           },
           {
            "bin_start": 0.7000000000000001,
            "bin_end": 0.8,
            "count": 0
           },
           {
            "bin_start": 0.8,
            "bin_end": 0.9,
            "count": 0
           },
           {
            "bin_start": 0.9,
            "bin_end": 1,
            "count": 4
           }
          ]
         }
        },
        {
         "name": "kfold",
         "dtype": "int64",
         "stats": {
          "unique_count": 1,
          "nan_count": 0,
          "min": "0",
          "max": "0",
          "histogram": [
           {
            "bin_start": -0.5,
            "bin_end": -0.4,
            "count": 0
           },
           {
            "bin_start": -0.4,
            "bin_end": -0.3,
            "count": 0
           },
           {
            "bin_start": -0.3,
            "bin_end": -0.19999999999999996,
            "count": 0
           },
           {
            "bin_start": -0.19999999999999996,
            "bin_end": -0.09999999999999998,
            "count": 0
           },
           {
            "bin_start": -0.09999999999999998,
            "bin_end": 0,
            "count": 0
           },
           {
            "bin_start": 0,
            "bin_end": 0.10000000000000009,
            "count": 5
           },
           {
            "bin_start": 0.10000000000000009,
            "bin_end": 0.20000000000000007,
            "count": 0
           },
           {
            "bin_start": 0.20000000000000007,
            "bin_end": 0.30000000000000004,
            "count": 0
           },
           {
            "bin_start": 0.30000000000000004,
            "bin_end": 0.4,
            "count": 0
           },
           {
            "bin_start": 0.4,
            "bin_end": 0.5,
            "count": 0
           }
          ]
         }
        },
        {
         "name": "rf_svd_pred",
         "dtype": "float64",
         "stats": {
          "unique_count": 5,
          "nan_count": 0,
          "min": "0.51",
          "max": "0.73",
          "histogram": [
           {
            "bin_start": 0.51,
            "bin_end": 0.532,
            "count": 1
           },
           {
            "bin_start": 0.532,
            "bin_end": 0.554,
            "count": 1
           },
           {
            "bin_start": 0.554,
            "bin_end": 0.5760000000000001,
            "count": 1
           },
           {
            "bin_start": 0.5760000000000001,
            "bin_end": 0.598,
            "count": 1
           },
           {
            "bin_start": 0.598,
            "bin_end": 0.62,
            "count": 0
           },
           {
            "bin_start": 0.62,
            "bin_end": 0.642,
            "count": 0
           },
           {
            "bin_start": 0.642,
            "bin_end": 0.664,
            "count": 0
           },
           {
            "bin_start": 0.664,
            "bin_end": 0.6859999999999999,
            "count": 0
           },
           {
            "bin_start": 0.6859999999999999,
            "bin_end": 0.708,
            "count": 0
           },
           {
            "bin_start": 0.708,
            "bin_end": 0.73,
            "count": 1
           }
          ]
         }
        },
        {
         "name": "_deepnote_index_column",
         "dtype": "int64"
        }
       ],
       "rows": [
        {
         "id": "11703_9",
         "sentiment": 1,
         "kfold": 0,
         "rf_svd_pred": 0.57,
         "_deepnote_index_column": 0
        },
        {
         "id": "6742_8",
         "sentiment": 1,
         "kfold": 0,
         "rf_svd_pred": 0.59,
         "_deepnote_index_column": 1
        },
        {
         "id": "10071_1",
         "sentiment": 0,
         "kfold": 0,
         "rf_svd_pred": 0.54,
         "_deepnote_index_column": 2
        },
        {
         "id": "9841_7",
         "sentiment": 1,
         "kfold": 0,
         "rf_svd_pred": 0.73,
         "_deepnote_index_column": 3
        },
        {
         "id": "11579_10",
         "sentiment": 1,
         "kfold": 0,
         "rf_svd_pred": 0.51,
         "_deepnote_index_column": 4
        }
       ]
      },
      "text/plain": "         id  sentiment  kfold  rf_svd_pred\n0   11703_9          1      0         0.57\n1    6742_8          1      0         0.59\n2   10071_1          0      0         0.54\n3    9841_7          1      0         0.73\n4  11579_10          1      0         0.51",
      "text/html": "<div>\n<style scoped>\n    .dataframe tbody tr th:only-of-type {\n        vertical-align: middle;\n    }\n\n    .dataframe tbody tr th {\n        vertical-align: top;\n    }\n\n    .dataframe thead th {\n        text-align: right;\n    }\n</style>\n<table border=\"1\" class=\"dataframe\">\n  <thead>\n    <tr style=\"text-align: right;\">\n      <th></th>\n      <th>id</th>\n      <th>sentiment</th>\n      <th>kfold</th>\n      <th>rf_svd_pred</th>\n    </tr>\n  </thead>\n  <tbody>\n    <tr>\n      <th>0</th>\n      <td>11703_9</td>\n      <td>1</td>\n      <td>0</td>\n      <td>0.57</td>\n    </tr>\n    <tr>\n      <th>1</th>\n      <td>6742_8</td>\n      <td>1</td>\n      <td>0</td>\n      <td>0.59</td>\n    </tr>\n    <tr>\n      <th>2</th>\n      <td>10071_1</td>\n      <td>0</td>\n      <td>0</td>\n      <td>0.54</td>\n    </tr>\n    <tr>\n      <th>3</th>\n      <td>9841_7</td>\n      <td>1</td>\n      <td>0</td>\n      <td>0.73</td>\n    </tr>\n    <tr>\n      <th>4</th>\n      <td>11579_10</td>\n      <td>1</td>\n      <td>0</td>\n      <td>0.51</td>\n    </tr>\n  </tbody>\n</table>\n</div>"
     },
     "metadata": {}
    }
   ]
  },
  {
   "cell_type": "code",
   "source": "",
   "metadata": {
    "deepnote_to_be_reexecuted": false,
    "source_hash": "b623e53d",
    "execution_start": 1654552684636,
    "execution_millis": 4,
    "cell_id": "00010-a5e933d9-c6b2-492e-bc73-e20c5e842fae",
    "deepnote_cell_type": "visualization"
   },
   "execution_count": 10,
   "outputs": []
  },
  {
   "cell_type": "code",
   "metadata": {
    "tags": [],
    "deepnote_to_be_reexecuted": false,
    "source_hash": "719f1563",
    "execution_start": 1654552684642,
    "execution_millis": 49,
    "cell_id": "00011-3a58bb98-de63-4b19-ab24-ece2f5384cfd",
    "deepnote_cell_type": "code",
    "deepnote_cell_height": 129.1875
   },
   "source": "print(final_df.shape)\nfinal_df.to_csv(f\"{OUTPUT_DIR}02_basemodel_03_rf_svd.csv\", index=False)",
   "execution_count": 11,
   "outputs": [
    {
     "name": "stdout",
     "text": "(25000, 4)\n",
     "output_type": "stream"
    }
   ]
  },
  {
   "cell_type": "markdown",
   "source": "<a style='text-decoration:none;line-height:16px;display:flex;color:#5B5B62;padding:10px;justify-content:end;' href='https://deepnote.com?utm_source=created-in-deepnote-cell&projectId=b1ab3b60-9130-40c7-8fa2-288950ad463c' target=\"_blank\">\n<img alt='Created in deepnote.com' style='display:inline;max-height:16px;margin:0px;margin-right:7.5px;' src='data:image/svg+xml;base64,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' > </img>\nCreated in <span style='font-weight:600;margin-left:4px;'>Deepnote</span></a>",
   "metadata": {
    "tags": [],
    "created_in_deepnote_cell": true,
    "deepnote_cell_type": "markdown"
   }
  }
 ],
 "nbformat": 4,
 "nbformat_minor": 2,
 "metadata": {
  "orig_nbformat": 2,
  "deepnote": {},
  "deepnote_notebook_id": "3bcf0dc0-f7aa-4e48-bddb-44b164bbd79e",
  "deepnote_execution_queue": []
 }
}