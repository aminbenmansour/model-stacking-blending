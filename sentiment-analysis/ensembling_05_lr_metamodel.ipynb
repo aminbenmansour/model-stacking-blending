{
 "cells": [
  {
   "cell_type": "markdown",
   "source": "# Fine tuning averaging weights\n\nFine tuning models could dramatically enhance model's performance.\n\nIn the last notebook we have been trying to get the best of the blending technique by changing weights manually.\nDuring this notebook we will write an optimization function.",
   "metadata": {
    "tags": [],
    "cell_id": "587ef124-f778-4f0b-b942-c265cb047935",
    "deepnote_cell_type": "markdown",
    "deepnote_cell_height": 179.171875
   }
  },
  {
   "cell_type": "code",
   "metadata": {
    "tags": [],
    "deepnote_to_be_reexecuted": false,
    "source_hash": "1ada3b14",
    "execution_start": 1654814048367,
    "execution_millis": 19890,
    "cell_id": "00001-01d44cbf-e50b-43cd-a24a-9510ed116f8f",
    "deepnote_cell_type": "code",
    "deepnote_cell_height": 117
   },
   "source": "import glob\nimport pandas as pd\nimport numpy as np",
   "execution_count": 1,
   "outputs": []
  },
  {
   "cell_type": "code",
   "metadata": {
    "tags": [],
    "deepnote_to_be_reexecuted": false,
    "source_hash": "60edcaab",
    "execution_start": 1654814048425,
    "execution_millis": 19893,
    "cell_id": "00002-a12a9d3f-3b7b-4c03-b7bf-4862a743e7cd",
    "deepnote_cell_type": "code",
    "deepnote_cell_height": 135
   },
   "source": "INPUT_DIR=\"../data-nlp/input/\"\nOUTPUT_DIR=\"../data-nlp/output/\"\n\nRAND=10",
   "execution_count": 2,
   "outputs": []
  },
  {
   "cell_type": "markdown",
   "source": "## Generating a new dataframe from basemodels",
   "metadata": {
    "tags": [],
    "cell_id": "00003-189de6e6-ec6f-4577-86b8-01a2c168305c",
    "deepnote_cell_type": "markdown",
    "deepnote_cell_height": 70
   }
  },
  {
   "cell_type": "code",
   "metadata": {
    "tags": [],
    "deepnote_to_be_reexecuted": false,
    "source_hash": "57c9d8b0",
    "execution_start": 1654814048466,
    "execution_millis": 556,
    "cell_id": "00004-df6db78b-a4d1-48b6-913d-5ddeb7038631",
    "deepnote_cell_type": "code",
    "deepnote_cell_height": 813
   },
   "source": "files = glob.glob(OUTPUT_DIR+\"02_basemodel*.csv\")\n\ndf = None\n\nfor f in files:\n    if df is None:\n        df = pd.read_csv(f)\n    else:\n        temp_df = pd.read_csv(f)\n        df = df.merge(temp_df, on=\"id\", how=\"left\")\n\ndf.head(10)",
   "execution_count": 3,
   "outputs": [
    {
     "output_type": "execute_result",
     "execution_count": 3,
     "data": {
      "application/vnd.deepnote.dataframe.v3+json": {
       "column_count": 11,
       "row_count": 10,
       "columns": [
        {
         "name": "id",
         "dtype": "object",
         "stats": {
          "unique_count": 10,
          "nan_count": 0,
          "categories": [
           {
            "name": "11703_9",
            "count": 1
           },
           {
            "name": "6742_8",
            "count": 1
           },
           {
            "name": "8 others",
            "count": 8
           }
          ]
         }
        },
        {
         "name": "sentiment_x",
         "dtype": "int64",
         "stats": {
          "unique_count": 2,
          "nan_count": 0,
          "min": "0",
          "max": "1",
          "histogram": [
           {
            "bin_start": 0,
            "bin_end": 0.1,
            "count": 4
           },
           {
            "bin_start": 0.1,
            "bin_end": 0.2,
            "count": 0
           },
           {
            "bin_start": 0.2,
            "bin_end": 0.30000000000000004,
            "count": 0
           },
           {
            "bin_start": 0.30000000000000004,
            "bin_end": 0.4,
            "count": 0
           },
           {
            "bin_start": 0.4,
            "bin_end": 0.5,
            "count": 0
           },
           {
            "bin_start": 0.5,
            "bin_end": 0.6000000000000001,
            "count": 0
           },
           {
            "bin_start": 0.6000000000000001,
            "bin_end": 0.7000000000000001,
            "count": 0
           },
           {
            "bin_start": 0.7000000000000001,
            "bin_end": 0.8,
            "count": 0
           },
           {
            "bin_start": 0.8,
            "bin_end": 0.9,
            "count": 0
           },
           {
            "bin_start": 0.9,
            "bin_end": 1,
            "count": 6
           }
          ]
         }
        },
        {
         "name": "kfold_x",
         "dtype": "int64",
         "stats": {
          "unique_count": 1,
          "nan_count": 0,
          "min": "0",
          "max": "0",
          "histogram": [
           {
            "bin_start": -0.5,
            "bin_end": -0.4,
            "count": 0
           },
           {
            "bin_start": -0.4,
            "bin_end": -0.3,
            "count": 0
           },
           {
            "bin_start": -0.3,
            "bin_end": -0.19999999999999996,
            "count": 0
           },
           {
            "bin_start": -0.19999999999999996,
            "bin_end": -0.09999999999999998,
            "count": 0
           },
           {
            "bin_start": -0.09999999999999998,
            "bin_end": 0,
            "count": 0
           },
           {
            "bin_start": 0,
            "bin_end": 0.10000000000000009,
            "count": 10
           },
           {
            "bin_start": 0.10000000000000009,
            "bin_end": 0.20000000000000007,
            "count": 0
           },
           {
            "bin_start": 0.20000000000000007,
            "bin_end": 0.30000000000000004,
            "count": 0
           },
           {
            "bin_start": 0.30000000000000004,
            "bin_end": 0.4,
            "count": 0
           },
           {
            "bin_start": 0.4,
            "bin_end": 0.5,
            "count": 0
           }
          ]
         }
        },
        {
         "name": "lr_cnt_pred",
         "dtype": "float64",
         "stats": {
          "unique_count": 10,
          "nan_count": 0,
          "min": "2.0247570297526453e-11",
          "max": "0.9999992180948312",
          "histogram": [
           {
            "bin_start": 2.0247570297526453e-11,
            "bin_end": 0.09999992182770592,
            "count": 3
           },
           {
            "bin_start": 0.09999992182770592,
            "bin_end": 0.1999998436351643,
            "count": 0
           },
           {
            "bin_start": 0.1999998436351643,
            "bin_end": 0.29999976544262263,
            "count": 0
           },
           {
            "bin_start": 0.29999976544262263,
            "bin_end": 0.399999687250081,
            "count": 0
           },
           {
            "bin_start": 0.399999687250081,
            "bin_end": 0.4999996090575394,
            "count": 1
           },
           {
            "bin_start": 0.4999996090575394,
            "bin_end": 0.5999995308649977,
            "count": 0
           },
           {
            "bin_start": 0.5999995308649977,
            "bin_end": 0.6999994526724561,
            "count": 0
           },
           {
            "bin_start": 0.6999994526724561,
            "bin_end": 0.7999993744799144,
            "count": 0
           },
           {
            "bin_start": 0.7999993744799144,
            "bin_end": 0.8999992962873727,
            "count": 0
           },
           {
            "bin_start": 0.8999992962873727,
            "bin_end": 0.9999992180948312,
            "count": 6
           }
          ]
         }
        },
        {
         "name": "Unnamed: 0",
         "dtype": "int64",
         "stats": {
          "unique_count": 10,
          "nan_count": 0,
          "min": "0",
          "max": "9",
          "histogram": [
           {
            "bin_start": 0,
            "bin_end": 0.9,
            "count": 1
           },
           {
            "bin_start": 0.9,
            "bin_end": 1.8,
            "count": 1
           },
           {
            "bin_start": 1.8,
            "bin_end": 2.7,
            "count": 1
           },
           {
            "bin_start": 2.7,
            "bin_end": 3.6,
            "count": 1
           },
           {
            "bin_start": 3.6,
            "bin_end": 4.5,
            "count": 1
           },
           {
            "bin_start": 4.5,
            "bin_end": 5.4,
            "count": 1
           },
           {
            "bin_start": 5.4,
            "bin_end": 6.3,
            "count": 1
           },
           {
            "bin_start": 6.3,
            "bin_end": 7.2,
            "count": 1
           },
           {
            "bin_start": 7.2,
            "bin_end": 8.1,
            "count": 1
           },
           {
            "bin_start": 8.1,
            "bin_end": 9,
            "count": 1
           }
          ]
         }
        },
        {
         "name": "sentiment_y",
         "dtype": "int64",
         "stats": {
          "unique_count": 2,
          "nan_count": 0,
          "min": "0",
          "max": "1",
          "histogram": [
           {
            "bin_start": 0,
            "bin_end": 0.1,
            "count": 4
           },
           {
            "bin_start": 0.1,
            "bin_end": 0.2,
            "count": 0
           },
           {
            "bin_start": 0.2,
            "bin_end": 0.30000000000000004,
            "count": 0
           },
           {
            "bin_start": 0.30000000000000004,
            "bin_end": 0.4,
            "count": 0
           },
           {
            "bin_start": 0.4,
            "bin_end": 0.5,
            "count": 0
           },
           {
            "bin_start": 0.5,
            "bin_end": 0.6000000000000001,
            "count": 0
           },
           {
            "bin_start": 0.6000000000000001,
            "bin_end": 0.7000000000000001,
            "count": 0
           },
           {
            "bin_start": 0.7000000000000001,
            "bin_end": 0.8,
            "count": 0
           },
           {
            "bin_start": 0.8,
            "bin_end": 0.9,
            "count": 0
           },
           {
            "bin_start": 0.9,
            "bin_end": 1,
            "count": 6
           }
          ]
         }
        },
        {
         "name": "kfold_y",
         "dtype": "int64",
         "stats": {
          "unique_count": 1,
          "nan_count": 0,
          "min": "0",
          "max": "0",
          "histogram": [
           {
            "bin_start": -0.5,
            "bin_end": -0.4,
            "count": 0
           },
           {
            "bin_start": -0.4,
            "bin_end": -0.3,
            "count": 0
           },
           {
            "bin_start": -0.3,
            "bin_end": -0.19999999999999996,
            "count": 0
           },
           {
            "bin_start": -0.19999999999999996,
            "bin_end": -0.09999999999999998,
            "count": 0
           },
           {
            "bin_start": -0.09999999999999998,
            "bin_end": 0,
            "count": 0
           },
           {
            "bin_start": 0,
            "bin_end": 0.10000000000000009,
            "count": 10
           },
           {
            "bin_start": 0.10000000000000009,
            "bin_end": 0.20000000000000007,
            "count": 0
           },
           {
            "bin_start": 0.20000000000000007,
            "bin_end": 0.30000000000000004,
            "count": 0
           },
           {
            "bin_start": 0.30000000000000004,
            "bin_end": 0.4,
            "count": 0
           },
           {
            "bin_start": 0.4,
            "bin_end": 0.5,
            "count": 0
           }
          ]
         }
        },
        {
         "name": "lr_pred",
         "dtype": "float64",
         "stats": {
          "unique_count": 10,
          "nan_count": 0,
          "min": "0.0010334321953375",
          "max": "0.9438076647798364",
          "histogram": [
           {
            "bin_start": 0.0010334321953375,
            "bin_end": 0.09531085545378738,
            "count": 1
           },
           {
            "bin_start": 0.09531085545378738,
            "bin_end": 0.18958827871223727,
            "count": 0
           },
           {
            "bin_start": 0.18958827871223727,
            "bin_end": 0.28386570197068717,
            "count": 0
           },
           {
            "bin_start": 0.28386570197068717,
            "bin_end": 0.37814312522913707,
            "count": 2
           },
           {
            "bin_start": 0.37814312522913707,
            "bin_end": 0.47242054848758697,
            "count": 1
           },
           {
            "bin_start": 0.47242054848758697,
            "bin_end": 0.5666979717460368,
            "count": 0
           },
           {
            "bin_start": 0.5666979717460368,
            "bin_end": 0.6609753950044867,
            "count": 0
           },
           {
            "bin_start": 0.6609753950044867,
            "bin_end": 0.7552528182629366,
            "count": 3
           },
           {
            "bin_start": 0.7552528182629366,
            "bin_end": 0.8495302415213865,
            "count": 0
           },
           {
            "bin_start": 0.8495302415213865,
            "bin_end": 0.9438076647798364,
            "count": 3
           }
          ]
         }
        },
        {
         "name": "sentiment",
         "dtype": "int64",
         "stats": {
          "unique_count": 2,
          "nan_count": 0,
          "min": "0",
          "max": "1",
          "histogram": [
           {
            "bin_start": 0,
            "bin_end": 0.1,
            "count": 4
           },
           {
            "bin_start": 0.1,
            "bin_end": 0.2,
            "count": 0
           },
           {
            "bin_start": 0.2,
            "bin_end": 0.30000000000000004,
            "count": 0
           },
           {
            "bin_start": 0.30000000000000004,
            "bin_end": 0.4,
            "count": 0
           },
           {
            "bin_start": 0.4,
            "bin_end": 0.5,
            "count": 0
           },
           {
            "bin_start": 0.5,
            "bin_end": 0.6000000000000001,
            "count": 0
           },
           {
            "bin_start": 0.6000000000000001,
            "bin_end": 0.7000000000000001,
            "count": 0
           },
           {
            "bin_start": 0.7000000000000001,
            "bin_end": 0.8,
            "count": 0
           },
           {
            "bin_start": 0.8,
            "bin_end": 0.9,
            "count": 0
           },
           {
            "bin_start": 0.9,
            "bin_end": 1,
            "count": 6
           }
          ]
         }
        },
        {
         "name": "kfold",
         "dtype": "int64",
         "stats": {
          "unique_count": 1,
          "nan_count": 0,
          "min": "0",
          "max": "0",
          "histogram": [
           {
            "bin_start": -0.5,
            "bin_end": -0.4,
            "count": 0
           },
           {
            "bin_start": -0.4,
            "bin_end": -0.3,
            "count": 0
           },
           {
            "bin_start": -0.3,
            "bin_end": -0.19999999999999996,
            "count": 0
           },
           {
            "bin_start": -0.19999999999999996,
            "bin_end": -0.09999999999999998,
            "count": 0
           },
           {
            "bin_start": -0.09999999999999998,
            "bin_end": 0,
            "count": 0
           },
           {
            "bin_start": 0,
            "bin_end": 0.10000000000000009,
            "count": 10
           },
           {
            "bin_start": 0.10000000000000009,
            "bin_end": 0.20000000000000007,
            "count": 0
           },
           {
            "bin_start": 0.20000000000000007,
            "bin_end": 0.30000000000000004,
            "count": 0
           },
           {
            "bin_start": 0.30000000000000004,
            "bin_end": 0.4,
            "count": 0
           },
           {
            "bin_start": 0.4,
            "bin_end": 0.5,
            "count": 0
           }
          ]
         }
        },
        {
         "name": "rf_svd_pred",
         "dtype": "float64",
         "stats": {
          "unique_count": 8,
          "nan_count": 0,
          "min": "0.12",
          "max": "0.73",
          "histogram": [
           {
            "bin_start": 0.12,
            "bin_end": 0.181,
            "count": 1
           },
           {
            "bin_start": 0.181,
            "bin_end": 0.242,
            "count": 0
           },
           {
            "bin_start": 0.242,
            "bin_end": 0.303,
            "count": 0
           },
           {
            "bin_start": 0.303,
            "bin_end": 0.364,
            "count": 1
           },
           {
            "bin_start": 0.364,
            "bin_end": 0.425,
            "count": 1
           },
           {
            "bin_start": 0.425,
            "bin_end": 0.486,
            "count": 0
           },
           {
            "bin_start": 0.486,
            "bin_end": 0.5469999999999999,
            "count": 3
           },
           {
            "bin_start": 0.5469999999999999,
            "bin_end": 0.608,
            "count": 2
           },
           {
            "bin_start": 0.608,
            "bin_end": 0.6689999999999999,
            "count": 0
           },
           {
            "bin_start": 0.6689999999999999,
            "bin_end": 0.73,
            "count": 2
           }
          ]
         }
        },
        {
         "name": "_deepnote_index_column",
         "dtype": "int64"
        }
       ],
       "rows": [
        {
         "id": "11703_9",
         "sentiment_x": 1,
         "kfold_x": 0,
         "lr_cnt_pred": 0.9996652110471952,
         "Unnamed: 0": 0,
         "sentiment_y": 1,
         "kfold_y": 0,
         "lr_pred": 0.8684212171112213,
         "sentiment": 1,
         "kfold": 0,
         "rf_svd_pred": 0.57,
         "_deepnote_index_column": 0
        },
        {
         "id": "6742_8",
         "sentiment_x": 1,
         "kfold_x": 0,
         "lr_cnt_pred": 0.9866726246962496,
         "Unnamed: 0": 1,
         "sentiment_y": 1,
         "kfold_y": 0,
         "lr_pred": 0.7277634785273325,
         "sentiment": 1,
         "kfold": 0,
         "rf_svd_pred": 0.59,
         "_deepnote_index_column": 1
        },
        {
         "id": "10071_1",
         "sentiment_x": 0,
         "kfold_x": 0,
         "lr_cnt_pred": 0.4653006313356506,
         "Unnamed: 0": 2,
         "sentiment_y": 0,
         "kfold_y": 0,
         "lr_pred": 0.4411533383188197,
         "sentiment": 0,
         "kfold": 0,
         "rf_svd_pred": 0.54,
         "_deepnote_index_column": 2
        },
        {
         "id": "9841_7",
         "sentiment_x": 1,
         "kfold_x": 0,
         "lr_cnt_pred": 0.9999992180948312,
         "Unnamed: 0": 3,
         "sentiment_y": 1,
         "kfold_y": 0,
         "lr_pred": 0.9438076647798364,
         "sentiment": 1,
         "kfold": 0,
         "rf_svd_pred": 0.73,
         "_deepnote_index_column": 3
        },
        {
         "id": "11579_10",
         "sentiment_x": 1,
         "kfold_x": 0,
         "lr_cnt_pred": 0.9851555901485298,
         "Unnamed: 0": 4,
         "sentiment_y": 1,
         "kfold_y": 0,
         "lr_pred": 0.9007529938842568,
         "sentiment": 1,
         "kfold": 0,
         "rf_svd_pred": 0.51,
         "_deepnote_index_column": 4
        },
        {
         "id": "5216_8",
         "sentiment_x": 1,
         "kfold_x": 0,
         "lr_cnt_pred": 0.985235391386234,
         "Unnamed: 0": 5,
         "sentiment_y": 1,
         "kfold_y": 0,
         "lr_pred": 0.7295145616909249,
         "sentiment": 1,
         "kfold": 0,
         "rf_svd_pred": 0.51,
         "_deepnote_index_column": 5
        },
        {
         "id": "1683_7",
         "sentiment_x": 1,
         "kfold_x": 0,
         "lr_cnt_pred": 0.0065764670794836,
         "Unnamed: 0": 6,
         "sentiment_y": 1,
         "kfold_y": 0,
         "lr_pred": 0.3090587584873911,
         "sentiment": 1,
         "kfold": 0,
         "rf_svd_pred": 0.4,
         "_deepnote_index_column": 6
        },
        {
         "id": "818_4",
         "sentiment_x": 0,
         "kfold_x": 0,
         "lr_cnt_pred": 0.9940245121282568,
         "Unnamed: 0": 7,
         "sentiment_y": 0,
         "kfold_y": 0,
         "lr_pred": 0.7137997155526266,
         "sentiment": 0,
         "kfold": 0,
         "rf_svd_pred": 0.73,
         "_deepnote_index_column": 7
        },
        {
         "id": "11779_3",
         "sentiment_x": 0,
         "kfold_x": 0,
         "lr_cnt_pred": 0.021168044198216,
         "Unnamed: 0": 8,
         "sentiment_y": 0,
         "kfold_y": 0,
         "lr_pred": 0.3070738438277306,
         "sentiment": 0,
         "kfold": 0,
         "rf_svd_pred": 0.32,
         "_deepnote_index_column": 8
        },
        {
         "id": "27_1",
         "sentiment_x": 0,
         "kfold_x": 0,
         "lr_cnt_pred": 2.0247570297526453e-11,
         "Unnamed: 0": 9,
         "sentiment_y": 0,
         "kfold_y": 0,
         "lr_pred": 0.0010334321953375,
         "sentiment": 0,
         "kfold": 0,
         "rf_svd_pred": 0.12,
         "_deepnote_index_column": 9
        }
       ]
      },
      "text/plain": "         id  sentiment_x  kfold_x   lr_cnt_pred  Unnamed: 0  sentiment_y  \\\n0   11703_9            1        0  9.996652e-01           0            1   \n1    6742_8            1        0  9.866726e-01           1            1   \n2   10071_1            0        0  4.653006e-01           2            0   \n3    9841_7            1        0  9.999992e-01           3            1   \n4  11579_10            1        0  9.851556e-01           4            1   \n5    5216_8            1        0  9.852354e-01           5            1   \n6    1683_7            1        0  6.576467e-03           6            1   \n7     818_4            0        0  9.940245e-01           7            0   \n8   11779_3            0        0  2.116804e-02           8            0   \n9      27_1            0        0  2.024757e-11           9            0   \n\n   kfold_y   lr_pred  sentiment  kfold  rf_svd_pred  \n0        0  0.868421          1      0         0.57  \n1        0  0.727763          1      0         0.59  \n2        0  0.441153          0      0         0.54  \n3        0  0.943808          1      0         0.73  \n4        0  0.900753          1      0         0.51  \n5        0  0.729515          1      0         0.51  \n6        0  0.309059          1      0         0.40  \n7        0  0.713800          0      0         0.73  \n8        0  0.307074          0      0         0.32  \n9        0  0.001033          0      0         0.12  ",
      "text/html": "<div>\n<style scoped>\n    .dataframe tbody tr th:only-of-type {\n        vertical-align: middle;\n    }\n\n    .dataframe tbody tr th {\n        vertical-align: top;\n    }\n\n    .dataframe thead th {\n        text-align: right;\n    }\n</style>\n<table border=\"1\" class=\"dataframe\">\n  <thead>\n    <tr style=\"text-align: right;\">\n      <th></th>\n      <th>id</th>\n      <th>sentiment_x</th>\n      <th>kfold_x</th>\n      <th>lr_cnt_pred</th>\n      <th>Unnamed: 0</th>\n      <th>sentiment_y</th>\n      <th>kfold_y</th>\n      <th>lr_pred</th>\n      <th>sentiment</th>\n      <th>kfold</th>\n      <th>rf_svd_pred</th>\n    </tr>\n  </thead>\n  <tbody>\n    <tr>\n      <th>0</th>\n      <td>11703_9</td>\n      <td>1</td>\n      <td>0</td>\n      <td>9.996652e-01</td>\n      <td>0</td>\n      <td>1</td>\n      <td>0</td>\n      <td>0.868421</td>\n      <td>1</td>\n      <td>0</td>\n      <td>0.57</td>\n    </tr>\n    <tr>\n      <th>1</th>\n      <td>6742_8</td>\n      <td>1</td>\n      <td>0</td>\n      <td>9.866726e-01</td>\n      <td>1</td>\n      <td>1</td>\n      <td>0</td>\n      <td>0.727763</td>\n      <td>1</td>\n      <td>0</td>\n      <td>0.59</td>\n    </tr>\n    <tr>\n      <th>2</th>\n      <td>10071_1</td>\n      <td>0</td>\n      <td>0</td>\n      <td>4.653006e-01</td>\n      <td>2</td>\n      <td>0</td>\n      <td>0</td>\n      <td>0.441153</td>\n      <td>0</td>\n      <td>0</td>\n      <td>0.54</td>\n    </tr>\n    <tr>\n      <th>3</th>\n      <td>9841_7</td>\n      <td>1</td>\n      <td>0</td>\n      <td>9.999992e-01</td>\n      <td>3</td>\n      <td>1</td>\n      <td>0</td>\n      <td>0.943808</td>\n      <td>1</td>\n      <td>0</td>\n      <td>0.73</td>\n    </tr>\n    <tr>\n      <th>4</th>\n      <td>11579_10</td>\n      <td>1</td>\n      <td>0</td>\n      <td>9.851556e-01</td>\n      <td>4</td>\n      <td>1</td>\n      <td>0</td>\n      <td>0.900753</td>\n      <td>1</td>\n      <td>0</td>\n      <td>0.51</td>\n    </tr>\n    <tr>\n      <th>5</th>\n      <td>5216_8</td>\n      <td>1</td>\n      <td>0</td>\n      <td>9.852354e-01</td>\n      <td>5</td>\n      <td>1</td>\n      <td>0</td>\n      <td>0.729515</td>\n      <td>1</td>\n      <td>0</td>\n      <td>0.51</td>\n    </tr>\n    <tr>\n      <th>6</th>\n      <td>1683_7</td>\n      <td>1</td>\n      <td>0</td>\n      <td>6.576467e-03</td>\n      <td>6</td>\n      <td>1</td>\n      <td>0</td>\n      <td>0.309059</td>\n      <td>1</td>\n      <td>0</td>\n      <td>0.40</td>\n    </tr>\n    <tr>\n      <th>7</th>\n      <td>818_4</td>\n      <td>0</td>\n      <td>0</td>\n      <td>9.940245e-01</td>\n      <td>7</td>\n      <td>0</td>\n      <td>0</td>\n      <td>0.713800</td>\n      <td>0</td>\n      <td>0</td>\n      <td>0.73</td>\n    </tr>\n    <tr>\n      <th>8</th>\n      <td>11779_3</td>\n      <td>0</td>\n      <td>0</td>\n      <td>2.116804e-02</td>\n      <td>8</td>\n      <td>0</td>\n      <td>0</td>\n      <td>0.307074</td>\n      <td>0</td>\n      <td>0</td>\n      <td>0.32</td>\n    </tr>\n    <tr>\n      <th>9</th>\n      <td>27_1</td>\n      <td>0</td>\n      <td>0</td>\n      <td>2.024757e-11</td>\n      <td>9</td>\n      <td>0</td>\n      <td>0</td>\n      <td>0.001033</td>\n      <td>0</td>\n      <td>0</td>\n      <td>0.12</td>\n    </tr>\n  </tbody>\n</table>\n</div>"
     },
     "metadata": {}
    }
   ]
  },
  {
   "cell_type": "markdown",
   "source": "## Selecting the newly generated features",
   "metadata": {
    "tags": [],
    "cell_id": "00005-e942b32f-55d4-443c-9aef-e7e548d463f3",
    "deepnote_cell_type": "markdown",
    "deepnote_cell_height": 70
   }
  },
  {
   "cell_type": "code",
   "metadata": {
    "tags": [],
    "deepnote_to_be_reexecuted": false,
    "source_hash": "4589a570",
    "execution_start": 1654814049020,
    "execution_millis": 20050,
    "cell_id": "00006-e9032f86-1c69-450e-951d-dc795b264159",
    "deepnote_cell_type": "code",
    "deepnote_cell_height": 81
   },
   "source": "pred_features = [\"lr_pred\", \"lr_cnt_pred\", \"rf_svd_pred\"]",
   "execution_count": 4,
   "outputs": []
  },
  {
   "cell_type": "code",
   "metadata": {
    "tags": [],
    "deepnote_to_be_reexecuted": false,
    "source_hash": "6d98f5ee",
    "execution_start": 1654814049091,
    "execution_millis": 1576,
    "cell_id": "00007-396a83bc-b1ed-48db-b7b6-28868cd26b47",
    "deepnote_cell_type": "code",
    "deepnote_cell_height": 117
   },
   "source": "from sklearn.metrics import roc_auc_score\n\ntargets = df.sentiment.values",
   "execution_count": 5,
   "outputs": []
  },
  {
   "cell_type": "markdown",
   "source": "## Printing  initial AUC values for different basemodels",
   "metadata": {
    "tags": [],
    "cell_id": "00008-ca7def35-8c2a-4748-a64e-46170af33f4a",
    "deepnote_cell_type": "markdown",
    "deepnote_cell_height": 70
   }
  },
  {
   "cell_type": "code",
   "metadata": {
    "tags": [],
    "deepnote_to_be_reexecuted": false,
    "source_hash": "1b7b7970",
    "execution_start": 1654814050683,
    "execution_millis": 119,
    "cell_id": "00009-24cba4a1-ba72-48e9-83c4-4530ee338b7f",
    "deepnote_cell_type": "code",
    "deepnote_cell_height": 221.5625
   },
   "source": "for col in pred_features:\n    auc = roc_auc_score(targets, df[col].values)\n    print(f\"{col}, overall_auc={auc}\")\n\n",
   "execution_count": 6,
   "outputs": [
    {
     "name": "stdout",
     "text": "lr_pred, overall_auc=0.9557241343999999\nlr_cnt_pred, overall_auc=0.9462495167999999\nrf_svd_pred, overall_auc=0.8796757056\n",
     "output_type": "stream"
    }
   ]
  },
  {
   "cell_type": "markdown",
   "source": "## Importing essential metamodel along with preprocessing tool for scaling",
   "metadata": {
    "tags": [],
    "cell_id": "00010-5e77cbf9-0f70-48a1-8639-007e7e9fe8fe",
    "owner_user_id": "e585054d-6bb8-42b6-830c-74e53ff767e9",
    "deepnote_cell_type": "markdown",
    "deepnote_cell_height": 122
   }
  },
  {
   "cell_type": "code",
   "metadata": {
    "tags": [],
    "deepnote_to_be_reexecuted": false,
    "source_hash": "3ee20180",
    "execution_start": 1654814050826,
    "execution_millis": 121,
    "cell_id": "00011-3952f66e-f7c9-4588-90de-544381bbbfd8",
    "deepnote_cell_type": "code",
    "deepnote_cell_height": 99
   },
   "source": "from sklearn.preprocessing import StandardScaler\nfrom sklearn.linear_model import LogisticRegression",
   "execution_count": 7,
   "outputs": []
  },
  {
   "cell_type": "markdown",
   "source": "## Finding the best coefficients for each fold",
   "metadata": {
    "tags": [],
    "cell_id": "00014-9372b56e-fe29-4828-bc6f-91257e028469",
    "deepnote_cell_type": "markdown",
    "deepnote_cell_height": 70
   }
  },
  {
   "cell_type": "code",
   "metadata": {
    "tags": [],
    "deepnote_to_be_reexecuted": false,
    "source_hash": "f1c34e7d",
    "execution_start": 1654814050959,
    "execution_millis": 17,
    "cell_id": "00015-8080de49-b255-4e4a-8cab-1e528970812e",
    "deepnote_cell_type": "code",
    "deepnote_cell_height": 477
   },
   "source": "def run_training(pred_df, fold):\n\n    train_df = pred_df[pred_df.kfold != fold].reset_index(drop=True)\n    valid_df = pred_df[pred_df.kfold == fold].reset_index(drop=True)\n    \n    xtrain = train_df[pred_features].values\n    xvalid = valid_df[pred_features].values\n\n    scaler = StandardScaler()\n\n    xtrain = scaler.fit_transform(xtrain)\n    xvalid = scaler.fit_transform(xvalid)\n\n    opt = LogisticRegression()\n    opt.fit(xtrain, train_df.sentiment.values)\n    preds = opt.predict_proba(xvalid)[:, 1]\n\n    auc = roc_auc_score(valid_df.sentiment.values, preds)\n    print(f\"fold={fold}, auc={auc}\\n\")\n\n    valid_df.loc[:, \"opt_pred\"] = preds\n\n    return opt.coef_",
   "execution_count": 8,
   "outputs": []
  },
  {
   "cell_type": "markdown",
   "source": "## Appending and averaging coefs",
   "metadata": {
    "tags": [],
    "cell_id": "00016-b573ec9d-a8f8-41ba-94f3-d888c2f92c68",
    "deepnote_cell_type": "markdown",
    "deepnote_cell_height": 70
   }
  },
  {
   "cell_type": "code",
   "metadata": {
    "tags": [],
    "deepnote_to_be_reexecuted": false,
    "source_hash": "ffb408f3",
    "execution_start": 1654814051003,
    "execution_millis": 1843,
    "cell_id": "00017-867494cb-d8d3-48ff-9f3c-9f88ae117f71",
    "deepnote_cell_type": "code",
    "deepnote_cell_height": 337.875,
    "deepnote_output_heights": [
     309
    ]
   },
   "source": "coefs = []\nfor i in range(5):\n    coefs.append(run_training(df, i))\n    ",
   "execution_count": 9,
   "outputs": [
    {
     "name": "stdout",
     "text": "fold=0, auc=0.95908304\n\nfold=1, auc=0.95926736\n\nfold=2, auc=0.9545516800000001\n\nfold=3, auc=0.9567231999999999\n\nfold=4, auc=0.95764816\n\n",
     "output_type": "stream"
    }
   ]
  },
  {
   "cell_type": "code",
   "metadata": {
    "tags": [],
    "deepnote_to_be_reexecuted": false,
    "source_hash": "7e03c6e8",
    "execution_start": 1654814052402,
    "execution_millis": 454,
    "cell_id": "00018-e762c9af-2388-4466-87f7-3fa4348887bd",
    "deepnote_cell_type": "code",
    "deepnote_cell_height": 282.6875
   },
   "source": "coefs = np.array(coefs)\nprint(coefs)",
   "execution_count": 10,
   "outputs": [
    {
     "name": "stdout",
     "text": "[[[ 2.68522025  0.51956405 -0.21366432]]\n\n [[ 2.66101237  0.52545674 -0.18604012]]\n\n [[ 2.75142112  0.49555306 -0.20883976]]\n\n [[ 2.62593371  0.53676715 -0.13553205]]\n\n [[ 2.66026267  0.54259277 -0.2097813 ]]]\n",
     "output_type": "stream"
    }
   ]
  },
  {
   "cell_type": "code",
   "metadata": {
    "tags": [],
    "deepnote_to_be_reexecuted": false,
    "source_hash": "997c31a5",
    "execution_start": 1654814052457,
    "execution_millis": 19422,
    "cell_id": "00019-64698aad-e175-439d-b426-a916cdc0b6b4",
    "deepnote_cell_type": "code",
    "deepnote_cell_height": 129.1875
   },
   "source": "coefs = np.mean(coefs, axis=0)\nprint(coefs)",
   "execution_count": 11,
   "outputs": [
    {
     "name": "stdout",
     "text": "[[ 2.67677002  0.52398675 -0.19077151]]\n",
     "output_type": "stream"
    }
   ]
  },
  {
   "cell_type": "markdown",
   "source": "## Final AUC value\nThe AUC value has been improved a lot comparing to the one in the previous notebook when we chose arbitrary coefs",
   "metadata": {
    "tags": [],
    "cell_id": "00020-f149dcd0-5689-4dab-a5c4-a88623622731",
    "deepnote_cell_type": "markdown",
    "deepnote_cell_height": 108.390625
   }
  },
  {
   "cell_type": "code",
   "metadata": {
    "tags": [],
    "deepnote_to_be_reexecuted": false,
    "source_hash": "1ea2bc7",
    "execution_start": 1654814052482,
    "execution_millis": 377,
    "cell_id": "00021-cc229d03-eb3b-44a9-9a3d-69ca376946a6",
    "deepnote_cell_type": "code",
    "deepnote_cell_height": 217.375,
    "deepnote_output_heights": [
     null,
     21.1875
    ]
   },
   "source": "wt_avg = coefs[0][0] * df.lr_pred.values + coefs[0][1] * df.lr_cnt_pred.values + coefs[0][2] * df.rf_svd_pred.values\n\nprint(\"Optimal AUC after finding coeffecients\")\nroc_auc_score(targets, wt_avg)",
   "execution_count": 12,
   "outputs": [
    {
     "name": "stdout",
     "text": "Optimal AUC after finding coeffecients\n",
     "output_type": "stream"
    },
    {
     "output_type": "execute_result",
     "execution_count": 12,
     "data": {
      "text/plain": "0.9575652224000001"
     },
     "metadata": {}
    }
   ]
  },
  {
   "cell_type": "markdown",
   "source": "<a style='text-decoration:none;line-height:16px;display:flex;color:#5B5B62;padding:10px;justify-content:end;' href='https://deepnote.com?utm_source=created-in-deepnote-cell&projectId=b1ab3b60-9130-40c7-8fa2-288950ad463c' target=\"_blank\">\n<img alt='Created in deepnote.com' style='display:inline;max-height:16px;margin:0px;margin-right:7.5px;' src='data:image/svg+xml;base64,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' > </img>\nCreated in <span style='font-weight:600;margin-left:4px;'>Deepnote</span></a>",
   "metadata": {
    "tags": [],
    "created_in_deepnote_cell": true,
    "deepnote_cell_type": "markdown"
   }
  }
 ],
 "nbformat": 4,
 "nbformat_minor": 2,
 "metadata": {
  "orig_nbformat": 2,
  "deepnote": {},
  "deepnote_notebook_id": "c6daf80d-c56a-42a9-8d47-d7edbfc1de38",
  "deepnote_execution_queue": []
 }
}