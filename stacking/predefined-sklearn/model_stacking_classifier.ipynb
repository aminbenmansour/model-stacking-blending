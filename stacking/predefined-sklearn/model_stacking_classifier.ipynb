{
  "nbformat": 4,
  "nbformat_minor": 0,
  "metadata": {
    "colab": {
      "name": "model-stacking-classifier.ipynb",
      "provenance": [],
      "collapsed_sections": []
    },
    "kernelspec": {
      "name": "python3",
      "display_name": "Python 3"
    },
    "language_info": {
      "name": "python"
    }
  },
  "cells": [
    {
      "cell_type": "markdown",
      "source": [
        "## Loading dataset"
      ],
      "metadata": {
        "id": "4t-VfsNkr0jA"
      }
    },
    {
      "cell_type": "code",
      "execution_count": 1,
      "metadata": {
        "id": "PlUshSCYroSs"
      },
      "outputs": [],
      "source": [
        "from sklearn.datasets import load_iris\n",
        "X, y = load_iris(return_X_y=True)"
      ]
    },
    {
      "cell_type": "markdown",
      "source": [
        "## Removing feature with low variance\n"
      ],
      "metadata": {
        "id": "RQs9vlpKsnrV"
      }
    },
    {
      "cell_type": "code",
      "source": [
        "from sklearn.feature_selection import VarianceThreshold\n",
        "\n",
        "selection = VarianceThreshold(threshold=(0.1))    \n",
        "X = selection.fit_transform(X)"
      ],
      "metadata": {
        "id": "MiBc65PDssaX"
      },
      "execution_count": 2,
      "outputs": []
    },
    {
      "cell_type": "markdown",
      "source": [
        "## Data Splitting"
      ],
      "metadata": {
        "id": "UoZGi2_rtFuL"
      }
    },
    {
      "cell_type": "code",
      "source": [
        "from sklearn.model_selection import train_test_split\n",
        "\n",
        "X_train, X_test, y_train, y_test = train_test_split(\n",
        "    X, y, stratify=y, test_size=0.2, random_state=42\n",
        ")"
      ],
      "metadata": {
        "id": "OoQYPlc6tFfd"
      },
      "execution_count": 3,
      "outputs": []
    },
    {
      "cell_type": "markdown",
      "source": [
        "## Building Classification models"
      ],
      "metadata": {
        "id": "YOhxMTFJtyQE"
      }
    },
    {
      "cell_type": "code",
      "source": [
        "from sklearn.metrics import accuracy_score\n",
        "from sklearn.metrics import matthews_corrcoef\n",
        "from sklearn.metrics import f1_score"
      ],
      "metadata": {
        "id": "ljQcfzeht1d-"
      },
      "execution_count": 4,
      "outputs": []
    },
    {
      "cell_type": "markdown",
      "source": [
        "### K nearest neighbors"
      ],
      "metadata": {
        "id": "PPOsE9dOuNsO"
      }
    },
    {
      "cell_type": "code",
      "source": [
        "from sklearn.neighbors import KNeighborsClassifier\n",
        "\n",
        "knn = KNeighborsClassifier(3) # Define classifier\n",
        "knn.fit(X_train, y_train) # Train model\n",
        "\n",
        "\n",
        "# Make predictions\n",
        "y_train_pred = knn.predict(X_train)\n",
        "y_test_pred = knn.predict(X_test)\n",
        "\n",
        "# Training set performance\n",
        "knn_train_accuracy = accuracy_score(y_train, y_train_pred) # Calculate Accuracy\n",
        "knn_train_mcc = matthews_corrcoef(y_train, y_train_pred) # Calculate MCC\n",
        "knn_train_f1 = f1_score(y_train, y_train_pred, average='weighted') # Calculate F1-score\n",
        "\n",
        "# Test set performance\n",
        "knn_test_accuracy = accuracy_score(y_test, y_test_pred) # Calculate Accuracy\n",
        "knn_test_mcc = matthews_corrcoef(y_test, y_test_pred) # Calculate MCC\n",
        "knn_test_f1 = f1_score(y_test, y_test_pred, average='weighted') # Calculate F1-score\n",
        "\n",
        "\n",
        "print('Model performance for Training set')\n",
        "print('- Accuracy: {:.2f}'.format(knn_train_accuracy))\n",
        "print('- MCC: {:.2f}'.format(knn_train_mcc))\n",
        "print('- F1 score: {:.2f}'.format(knn_train_f1))\n",
        "print('----------------------------------')\n",
        "print('Model performance for Test set')\n",
        "print('- Accuracy: {}'.format(knn_test_accuracy))\n",
        "print('- MCC: {}'.format(knn_test_mcc))\n",
        "print('- F1 score: {}'.format(knn_test_f1))"
      ],
      "metadata": {
        "colab": {
          "base_uri": "https://localhost:8080/"
        },
        "id": "FOdUkF_JvJNR",
        "outputId": "1c11570a-35fe-4804-d044-e047af261cf8"
      },
      "execution_count": 5,
      "outputs": [
        {
          "output_type": "stream",
          "name": "stdout",
          "text": [
            "Model performance for Training set\n",
            "- Accuracy: 0.96\n",
            "- MCC: 0.94\n",
            "- F1 score: 0.96\n",
            "----------------------------------\n",
            "Model performance for Test set\n",
            "- Accuracy: 1.0\n",
            "- MCC: 1.0\n",
            "- F1 score: 1.0\n"
          ]
        }
      ]
    }
  ]
}